{
 "cells": [
  {
   "cell_type": "code",
   "execution_count": 1,
   "metadata": {
    "collapsed": true
   },
   "outputs": [],
   "source": [
    "import pandas"
   ]
  },
  {
   "cell_type": "code",
   "execution_count": 2,
   "metadata": {
    "collapsed": false
   },
   "outputs": [],
   "source": [
    "t = pandas.read_table('E2F1-GCGG.txt', header=None, delimiter=' ')"
   ]
  },
  {
   "cell_type": "code",
   "execution_count": 3,
   "metadata": {
    "collapsed": true
   },
   "outputs": [],
   "source": [
    "t.columns = ['chrom','start','end','score']"
   ]
  },
  {
   "cell_type": "code",
   "execution_count": 4,
   "metadata": {
    "collapsed": false
   },
   "outputs": [],
   "source": [
    "filtered = t[t['score'] > 0.207]"
   ]
  },
  {
   "cell_type": "code",
   "execution_count": 5,
   "metadata": {
    "collapsed": false
   },
   "outputs": [
    {
     "name": "stderr",
     "output_type": "stream",
     "text": [
      "/Users/dcl9/Code/envs/env/lib/python2.7/site-packages/ipykernel/__main__.py:1: SettingWithCopyWarning: \n",
      "A value is trying to be set on a copy of a slice from a DataFrame.\n",
      "Try using .loc[row_indexer,col_indexer] = value instead\n",
      "\n",
      "See the caveats in the documentation: http://pandas.pydata.org/pandas-docs/stable/indexing.html#indexing-view-versus-copy\n",
      "  if __name__ == '__main__':\n",
      "/Users/dcl9/Code/envs/env/lib/python2.7/site-packages/ipykernel/__main__.py:2: SettingWithCopyWarning: \n",
      "A value is trying to be set on a copy of a slice from a DataFrame.\n",
      "Try using .loc[row_indexer,col_indexer] = value instead\n",
      "\n",
      "See the caveats in the documentation: http://pandas.pydata.org/pandas-docs/stable/indexing.html#indexing-view-versus-copy\n",
      "  from ipykernel import kernelapp as app\n"
     ]
    }
   ],
   "source": [
    "filtered['start2'] = filtered['start'] + 8\n",
    "filtered['end2'] = filtered['end'] - 8"
   ]
  },
  {
   "cell_type": "code",
   "execution_count": 6,
   "metadata": {
    "collapsed": false
   },
   "outputs": [
    {
     "data": {
      "text/html": [
       "<div>\n",
       "<table border=\"1\" class=\"dataframe\">\n",
       "  <thead>\n",
       "    <tr style=\"text-align: right;\">\n",
       "      <th></th>\n",
       "      <th>chrom</th>\n",
       "      <th>start2</th>\n",
       "      <th>end2</th>\n",
       "      <th>score</th>\n",
       "    </tr>\n",
       "  </thead>\n",
       "  <tbody>\n",
       "    <tr>\n",
       "      <th>39</th>\n",
       "      <td>chr1</td>\n",
       "      <td>16131</td>\n",
       "      <td>16151</td>\n",
       "      <td>0.306203</td>\n",
       "    </tr>\n",
       "    <tr>\n",
       "      <th>55</th>\n",
       "      <td>chr1</td>\n",
       "      <td>20117</td>\n",
       "      <td>20137</td>\n",
       "      <td>0.253157</td>\n",
       "    </tr>\n",
       "    <tr>\n",
       "      <th>68</th>\n",
       "      <td>chr1</td>\n",
       "      <td>28399</td>\n",
       "      <td>28419</td>\n",
       "      <td>0.412463</td>\n",
       "    </tr>\n",
       "    <tr>\n",
       "      <th>69</th>\n",
       "      <td>chr1</td>\n",
       "      <td>28740</td>\n",
       "      <td>28760</td>\n",
       "      <td>0.253390</td>\n",
       "    </tr>\n",
       "    <tr>\n",
       "      <th>75</th>\n",
       "      <td>chr1</td>\n",
       "      <td>28924</td>\n",
       "      <td>28944</td>\n",
       "      <td>0.233164</td>\n",
       "    </tr>\n",
       "    <tr>\n",
       "      <th>110</th>\n",
       "      <td>chr1</td>\n",
       "      <td>30085</td>\n",
       "      <td>30105</td>\n",
       "      <td>0.323351</td>\n",
       "    </tr>\n",
       "    <tr>\n",
       "      <th>111</th>\n",
       "      <td>chr1</td>\n",
       "      <td>30561</td>\n",
       "      <td>30581</td>\n",
       "      <td>0.285955</td>\n",
       "    </tr>\n",
       "    <tr>\n",
       "      <th>123</th>\n",
       "      <td>chr1</td>\n",
       "      <td>39568</td>\n",
       "      <td>39588</td>\n",
       "      <td>0.257872</td>\n",
       "    </tr>\n",
       "    <tr>\n",
       "      <th>125</th>\n",
       "      <td>chr1</td>\n",
       "      <td>39724</td>\n",
       "      <td>39744</td>\n",
       "      <td>0.485189</td>\n",
       "    </tr>\n",
       "    <tr>\n",
       "      <th>136</th>\n",
       "      <td>chr1</td>\n",
       "      <td>51724</td>\n",
       "      <td>51744</td>\n",
       "      <td>0.214692</td>\n",
       "    </tr>\n",
       "    <tr>\n",
       "      <th>142</th>\n",
       "      <td>chr1</td>\n",
       "      <td>51849</td>\n",
       "      <td>51869</td>\n",
       "      <td>0.235392</td>\n",
       "    </tr>\n",
       "    <tr>\n",
       "      <th>152</th>\n",
       "      <td>chr1</td>\n",
       "      <td>74284</td>\n",
       "      <td>74304</td>\n",
       "      <td>0.256986</td>\n",
       "    </tr>\n",
       "    <tr>\n",
       "      <th>154</th>\n",
       "      <td>chr1</td>\n",
       "      <td>76935</td>\n",
       "      <td>76955</td>\n",
       "      <td>0.228709</td>\n",
       "    </tr>\n",
       "    <tr>\n",
       "      <th>162</th>\n",
       "      <td>chr1</td>\n",
       "      <td>88508</td>\n",
       "      <td>88528</td>\n",
       "      <td>0.213611</td>\n",
       "    </tr>\n",
       "    <tr>\n",
       "      <th>167</th>\n",
       "      <td>chr1</td>\n",
       "      <td>91938</td>\n",
       "      <td>91958</td>\n",
       "      <td>0.390077</td>\n",
       "    </tr>\n",
       "    <tr>\n",
       "      <th>182</th>\n",
       "      <td>chr1</td>\n",
       "      <td>110600</td>\n",
       "      <td>110620</td>\n",
       "      <td>0.399710</td>\n",
       "    </tr>\n",
       "    <tr>\n",
       "      <th>184</th>\n",
       "      <td>chr1</td>\n",
       "      <td>119680</td>\n",
       "      <td>119700</td>\n",
       "      <td>0.227239</td>\n",
       "    </tr>\n",
       "    <tr>\n",
       "      <th>187</th>\n",
       "      <td>chr1</td>\n",
       "      <td>121405</td>\n",
       "      <td>121425</td>\n",
       "      <td>0.272217</td>\n",
       "    </tr>\n",
       "    <tr>\n",
       "      <th>250</th>\n",
       "      <td>chr1</td>\n",
       "      <td>138771</td>\n",
       "      <td>138791</td>\n",
       "      <td>0.294339</td>\n",
       "    </tr>\n",
       "    <tr>\n",
       "      <th>266</th>\n",
       "      <td>chr1</td>\n",
       "      <td>154661</td>\n",
       "      <td>154681</td>\n",
       "      <td>0.439072</td>\n",
       "    </tr>\n",
       "    <tr>\n",
       "      <th>268</th>\n",
       "      <td>chr1</td>\n",
       "      <td>157223</td>\n",
       "      <td>157243</td>\n",
       "      <td>0.293015</td>\n",
       "    </tr>\n",
       "    <tr>\n",
       "      <th>274</th>\n",
       "      <td>chr1</td>\n",
       "      <td>159789</td>\n",
       "      <td>159809</td>\n",
       "      <td>0.356662</td>\n",
       "    </tr>\n",
       "    <tr>\n",
       "      <th>280</th>\n",
       "      <td>chr1</td>\n",
       "      <td>165046</td>\n",
       "      <td>165066</td>\n",
       "      <td>0.289086</td>\n",
       "    </tr>\n",
       "    <tr>\n",
       "      <th>283</th>\n",
       "      <td>chr1</td>\n",
       "      <td>168405</td>\n",
       "      <td>168425</td>\n",
       "      <td>0.208630</td>\n",
       "    </tr>\n",
       "    <tr>\n",
       "      <th>290</th>\n",
       "      <td>chr1</td>\n",
       "      <td>170579</td>\n",
       "      <td>170599</td>\n",
       "      <td>0.229623</td>\n",
       "    </tr>\n",
       "    <tr>\n",
       "      <th>295</th>\n",
       "      <td>chr1</td>\n",
       "      <td>174206</td>\n",
       "      <td>174226</td>\n",
       "      <td>0.382268</td>\n",
       "    </tr>\n",
       "    <tr>\n",
       "      <th>306</th>\n",
       "      <td>chr1</td>\n",
       "      <td>231000</td>\n",
       "      <td>231020</td>\n",
       "      <td>0.225750</td>\n",
       "    </tr>\n",
       "    <tr>\n",
       "      <th>308</th>\n",
       "      <td>chr1</td>\n",
       "      <td>232325</td>\n",
       "      <td>232345</td>\n",
       "      <td>0.256268</td>\n",
       "    </tr>\n",
       "    <tr>\n",
       "      <th>310</th>\n",
       "      <td>chr1</td>\n",
       "      <td>233120</td>\n",
       "      <td>233140</td>\n",
       "      <td>0.532699</td>\n",
       "    </tr>\n",
       "    <tr>\n",
       "      <th>311</th>\n",
       "      <td>chr1</td>\n",
       "      <td>233440</td>\n",
       "      <td>233460</td>\n",
       "      <td>0.239423</td>\n",
       "    </tr>\n",
       "    <tr>\n",
       "      <th>...</th>\n",
       "      <td>...</td>\n",
       "      <td>...</td>\n",
       "      <td>...</td>\n",
       "      <td>...</td>\n",
       "    </tr>\n",
       "    <tr>\n",
       "      <th>24244</th>\n",
       "      <td>chr1</td>\n",
       "      <td>4950373</td>\n",
       "      <td>4950393</td>\n",
       "      <td>0.294699</td>\n",
       "    </tr>\n",
       "    <tr>\n",
       "      <th>24250</th>\n",
       "      <td>chr1</td>\n",
       "      <td>4956297</td>\n",
       "      <td>4956317</td>\n",
       "      <td>0.246743</td>\n",
       "    </tr>\n",
       "    <tr>\n",
       "      <th>24259</th>\n",
       "      <td>chr1</td>\n",
       "      <td>4963110</td>\n",
       "      <td>4963130</td>\n",
       "      <td>0.272381</td>\n",
       "    </tr>\n",
       "    <tr>\n",
       "      <th>24269</th>\n",
       "      <td>chr1</td>\n",
       "      <td>4969206</td>\n",
       "      <td>4969226</td>\n",
       "      <td>0.317584</td>\n",
       "    </tr>\n",
       "    <tr>\n",
       "      <th>24273</th>\n",
       "      <td>chr1</td>\n",
       "      <td>4970702</td>\n",
       "      <td>4970722</td>\n",
       "      <td>0.351823</td>\n",
       "    </tr>\n",
       "    <tr>\n",
       "      <th>24279</th>\n",
       "      <td>chr1</td>\n",
       "      <td>4974752</td>\n",
       "      <td>4974772</td>\n",
       "      <td>0.227552</td>\n",
       "    </tr>\n",
       "    <tr>\n",
       "      <th>24280</th>\n",
       "      <td>chr1</td>\n",
       "      <td>4976756</td>\n",
       "      <td>4976776</td>\n",
       "      <td>0.262136</td>\n",
       "    </tr>\n",
       "    <tr>\n",
       "      <th>24285</th>\n",
       "      <td>chr1</td>\n",
       "      <td>4982147</td>\n",
       "      <td>4982167</td>\n",
       "      <td>0.349287</td>\n",
       "    </tr>\n",
       "    <tr>\n",
       "      <th>24288</th>\n",
       "      <td>chr1</td>\n",
       "      <td>4988377</td>\n",
       "      <td>4988397</td>\n",
       "      <td>0.228005</td>\n",
       "    </tr>\n",
       "    <tr>\n",
       "      <th>24292</th>\n",
       "      <td>chr1</td>\n",
       "      <td>4990608</td>\n",
       "      <td>4990628</td>\n",
       "      <td>0.207725</td>\n",
       "    </tr>\n",
       "    <tr>\n",
       "      <th>24296</th>\n",
       "      <td>chr1</td>\n",
       "      <td>4993755</td>\n",
       "      <td>4993775</td>\n",
       "      <td>0.231760</td>\n",
       "    </tr>\n",
       "    <tr>\n",
       "      <th>24301</th>\n",
       "      <td>chr1</td>\n",
       "      <td>4996854</td>\n",
       "      <td>4996874</td>\n",
       "      <td>0.251309</td>\n",
       "    </tr>\n",
       "    <tr>\n",
       "      <th>24315</th>\n",
       "      <td>chr1</td>\n",
       "      <td>5006960</td>\n",
       "      <td>5006980</td>\n",
       "      <td>0.257452</td>\n",
       "    </tr>\n",
       "    <tr>\n",
       "      <th>24319</th>\n",
       "      <td>chr1</td>\n",
       "      <td>5008819</td>\n",
       "      <td>5008839</td>\n",
       "      <td>0.227559</td>\n",
       "    </tr>\n",
       "    <tr>\n",
       "      <th>24354</th>\n",
       "      <td>chr1</td>\n",
       "      <td>5033884</td>\n",
       "      <td>5033904</td>\n",
       "      <td>0.239160</td>\n",
       "    </tr>\n",
       "    <tr>\n",
       "      <th>24358</th>\n",
       "      <td>chr1</td>\n",
       "      <td>5034693</td>\n",
       "      <td>5034713</td>\n",
       "      <td>0.228335</td>\n",
       "    </tr>\n",
       "    <tr>\n",
       "      <th>24363</th>\n",
       "      <td>chr1</td>\n",
       "      <td>5036374</td>\n",
       "      <td>5036394</td>\n",
       "      <td>0.326299</td>\n",
       "    </tr>\n",
       "    <tr>\n",
       "      <th>24366</th>\n",
       "      <td>chr1</td>\n",
       "      <td>5036894</td>\n",
       "      <td>5036914</td>\n",
       "      <td>0.411970</td>\n",
       "    </tr>\n",
       "    <tr>\n",
       "      <th>24371</th>\n",
       "      <td>chr1</td>\n",
       "      <td>5038514</td>\n",
       "      <td>5038534</td>\n",
       "      <td>0.280116</td>\n",
       "    </tr>\n",
       "    <tr>\n",
       "      <th>24373</th>\n",
       "      <td>chr1</td>\n",
       "      <td>5039016</td>\n",
       "      <td>5039036</td>\n",
       "      <td>0.319534</td>\n",
       "    </tr>\n",
       "    <tr>\n",
       "      <th>24374</th>\n",
       "      <td>chr1</td>\n",
       "      <td>5039190</td>\n",
       "      <td>5039210</td>\n",
       "      <td>0.251253</td>\n",
       "    </tr>\n",
       "    <tr>\n",
       "      <th>24385</th>\n",
       "      <td>chr1</td>\n",
       "      <td>5047191</td>\n",
       "      <td>5047211</td>\n",
       "      <td>0.283917</td>\n",
       "    </tr>\n",
       "    <tr>\n",
       "      <th>24390</th>\n",
       "      <td>chr1</td>\n",
       "      <td>5056645</td>\n",
       "      <td>5056665</td>\n",
       "      <td>0.213892</td>\n",
       "    </tr>\n",
       "    <tr>\n",
       "      <th>24395</th>\n",
       "      <td>chr1</td>\n",
       "      <td>5060610</td>\n",
       "      <td>5060630</td>\n",
       "      <td>0.308835</td>\n",
       "    </tr>\n",
       "    <tr>\n",
       "      <th>24402</th>\n",
       "      <td>chr1</td>\n",
       "      <td>5068376</td>\n",
       "      <td>5068396</td>\n",
       "      <td>0.216862</td>\n",
       "    </tr>\n",
       "    <tr>\n",
       "      <th>24405</th>\n",
       "      <td>chr1</td>\n",
       "      <td>5070523</td>\n",
       "      <td>5070543</td>\n",
       "      <td>0.290723</td>\n",
       "    </tr>\n",
       "    <tr>\n",
       "      <th>24406</th>\n",
       "      <td>chr1</td>\n",
       "      <td>5071158</td>\n",
       "      <td>5071178</td>\n",
       "      <td>0.266304</td>\n",
       "    </tr>\n",
       "    <tr>\n",
       "      <th>24409</th>\n",
       "      <td>chr1</td>\n",
       "      <td>5074907</td>\n",
       "      <td>5074927</td>\n",
       "      <td>0.305118</td>\n",
       "    </tr>\n",
       "    <tr>\n",
       "      <th>24423</th>\n",
       "      <td>chr1</td>\n",
       "      <td>5084523</td>\n",
       "      <td>5084543</td>\n",
       "      <td>0.262642</td>\n",
       "    </tr>\n",
       "    <tr>\n",
       "      <th>24428</th>\n",
       "      <td>chr1</td>\n",
       "      <td>5096185</td>\n",
       "      <td>5096205</td>\n",
       "      <td>0.265220</td>\n",
       "    </tr>\n",
       "  </tbody>\n",
       "</table>\n",
       "<p>2144 rows × 4 columns</p>\n",
       "</div>"
      ],
      "text/plain": [
       "      chrom   start2     end2     score\n",
       "39     chr1    16131    16151  0.306203\n",
       "55     chr1    20117    20137  0.253157\n",
       "68     chr1    28399    28419  0.412463\n",
       "69     chr1    28740    28760  0.253390\n",
       "75     chr1    28924    28944  0.233164\n",
       "110    chr1    30085    30105  0.323351\n",
       "111    chr1    30561    30581  0.285955\n",
       "123    chr1    39568    39588  0.257872\n",
       "125    chr1    39724    39744  0.485189\n",
       "136    chr1    51724    51744  0.214692\n",
       "142    chr1    51849    51869  0.235392\n",
       "152    chr1    74284    74304  0.256986\n",
       "154    chr1    76935    76955  0.228709\n",
       "162    chr1    88508    88528  0.213611\n",
       "167    chr1    91938    91958  0.390077\n",
       "182    chr1   110600   110620  0.399710\n",
       "184    chr1   119680   119700  0.227239\n",
       "187    chr1   121405   121425  0.272217\n",
       "250    chr1   138771   138791  0.294339\n",
       "266    chr1   154661   154681  0.439072\n",
       "268    chr1   157223   157243  0.293015\n",
       "274    chr1   159789   159809  0.356662\n",
       "280    chr1   165046   165066  0.289086\n",
       "283    chr1   168405   168425  0.208630\n",
       "290    chr1   170579   170599  0.229623\n",
       "295    chr1   174206   174226  0.382268\n",
       "306    chr1   231000   231020  0.225750\n",
       "308    chr1   232325   232345  0.256268\n",
       "310    chr1   233120   233140  0.532699\n",
       "311    chr1   233440   233460  0.239423\n",
       "...     ...      ...      ...       ...\n",
       "24244  chr1  4950373  4950393  0.294699\n",
       "24250  chr1  4956297  4956317  0.246743\n",
       "24259  chr1  4963110  4963130  0.272381\n",
       "24269  chr1  4969206  4969226  0.317584\n",
       "24273  chr1  4970702  4970722  0.351823\n",
       "24279  chr1  4974752  4974772  0.227552\n",
       "24280  chr1  4976756  4976776  0.262136\n",
       "24285  chr1  4982147  4982167  0.349287\n",
       "24288  chr1  4988377  4988397  0.228005\n",
       "24292  chr1  4990608  4990628  0.207725\n",
       "24296  chr1  4993755  4993775  0.231760\n",
       "24301  chr1  4996854  4996874  0.251309\n",
       "24315  chr1  5006960  5006980  0.257452\n",
       "24319  chr1  5008819  5008839  0.227559\n",
       "24354  chr1  5033884  5033904  0.239160\n",
       "24358  chr1  5034693  5034713  0.228335\n",
       "24363  chr1  5036374  5036394  0.326299\n",
       "24366  chr1  5036894  5036914  0.411970\n",
       "24371  chr1  5038514  5038534  0.280116\n",
       "24373  chr1  5039016  5039036  0.319534\n",
       "24374  chr1  5039190  5039210  0.251253\n",
       "24385  chr1  5047191  5047211  0.283917\n",
       "24390  chr1  5056645  5056665  0.213892\n",
       "24395  chr1  5060610  5060630  0.308835\n",
       "24402  chr1  5068376  5068396  0.216862\n",
       "24405  chr1  5070523  5070543  0.290723\n",
       "24406  chr1  5071158  5071178  0.266304\n",
       "24409  chr1  5074907  5074927  0.305118\n",
       "24423  chr1  5084523  5084543  0.262642\n",
       "24428  chr1  5096185  5096205  0.265220\n",
       "\n",
       "[2144 rows x 4 columns]"
      ]
     },
     "execution_count": 6,
     "metadata": {},
     "output_type": "execute_result"
    }
   ],
   "source": [
    "filtered[['chrom','start2','end2','score']]"
   ]
  },
  {
   "cell_type": "markdown",
   "metadata": {},
   "source": [
    "Read in the central20bpp predictions"
   ]
  },
  {
   "cell_type": "code",
   "execution_count": 7,
   "metadata": {
    "collapsed": true
   },
   "outputs": [],
   "source": [
    "chr1_schipper = pandas.read_table('chr1_schipper.bed',header=None, delimiter=' ')"
   ]
  },
  {
   "cell_type": "code",
   "execution_count": 8,
   "metadata": {
    "collapsed": false
   },
   "outputs": [],
   "source": [
    "chr1_schipper.columns = ['chrom','start2','end2','score']"
   ]
  },
  {
   "cell_type": "markdown",
   "metadata": {},
   "source": [
    "Use pandas join to connect on the start position (adjusted for span), and then see how far off we are"
   ]
  },
  {
   "cell_type": "code",
   "execution_count": 9,
   "metadata": {
    "collapsed": false
   },
   "outputs": [],
   "source": [
    "merged = pandas.merge(left=filtered, right=chr1_schipper, left_on='end2', right_on='end2')"
   ]
  },
  {
   "cell_type": "markdown",
   "metadata": {},
   "source": [
    "There are precision differences, but if we look at 1e-05 as the tolerance, we see about half the data doesn't match"
   ]
  },
  {
   "cell_type": "code",
   "execution_count": 11,
   "metadata": {
    "collapsed": true
   },
   "outputs": [],
   "source": [
    "merged['delta'] = merged['score_x'] - merged['score_y']"
   ]
  },
  {
   "cell_type": "code",
   "execution_count": 12,
   "metadata": {
    "collapsed": false
   },
   "outputs": [
    {
     "data": {
      "text/plain": [
       "1059"
      ]
     },
     "execution_count": 12,
     "metadata": {},
     "output_type": "execute_result"
    }
   ],
   "source": [
    "len(merged[abs(merged['delta']) < 1e-05])"
   ]
  },
  {
   "cell_type": "code",
   "execution_count": 13,
   "metadata": {
    "collapsed": false
   },
   "outputs": [
    {
     "data": {
      "text/plain": [
       "1995"
      ]
     },
     "execution_count": 13,
     "metadata": {},
     "output_type": "execute_result"
    }
   ],
   "source": [
    "len(merged)"
   ]
  },
  {
   "cell_type": "markdown",
   "metadata": {},
   "source": [
    "Is this reverse complements?"
   ]
  },
  {
   "cell_type": "code",
   "execution_count": 71,
   "metadata": {
    "collapsed": false,
    "scrolled": true
   },
   "outputs": [],
   "source": [
    "nonmatch = merged[abs(merged['delta']) > 1e-05]"
   ]
  },
  {
   "cell_type": "code",
   "execution_count": 72,
   "metadata": {
    "collapsed": false
   },
   "outputs": [
    {
     "data": {
      "text/html": [
       "<div>\n",
       "<table border=\"1\" class=\"dataframe\">\n",
       "  <thead>\n",
       "    <tr style=\"text-align: right;\">\n",
       "      <th></th>\n",
       "      <th>chrom_x</th>\n",
       "      <th>start</th>\n",
       "      <th>end</th>\n",
       "    </tr>\n",
       "  </thead>\n",
       "  <tbody>\n",
       "    <tr>\n",
       "      <th>0</th>\n",
       "      <td>chr1</td>\n",
       "      <td>16123</td>\n",
       "      <td>16159</td>\n",
       "    </tr>\n",
       "    <tr>\n",
       "      <th>3</th>\n",
       "      <td>chr1</td>\n",
       "      <td>28732</td>\n",
       "      <td>28768</td>\n",
       "    </tr>\n",
       "    <tr>\n",
       "      <th>7</th>\n",
       "      <td>chr1</td>\n",
       "      <td>39560</td>\n",
       "      <td>39596</td>\n",
       "    </tr>\n",
       "    <tr>\n",
       "      <th>9</th>\n",
       "      <td>chr1</td>\n",
       "      <td>51716</td>\n",
       "      <td>51752</td>\n",
       "    </tr>\n",
       "    <tr>\n",
       "      <th>13</th>\n",
       "      <td>chr1</td>\n",
       "      <td>88500</td>\n",
       "      <td>88536</td>\n",
       "    </tr>\n",
       "    <tr>\n",
       "      <th>17</th>\n",
       "      <td>chr1</td>\n",
       "      <td>121397</td>\n",
       "      <td>121433</td>\n",
       "    </tr>\n",
       "    <tr>\n",
       "      <th>18</th>\n",
       "      <td>chr1</td>\n",
       "      <td>138763</td>\n",
       "      <td>138799</td>\n",
       "    </tr>\n",
       "    <tr>\n",
       "      <th>21</th>\n",
       "      <td>chr1</td>\n",
       "      <td>159781</td>\n",
       "      <td>159817</td>\n",
       "    </tr>\n",
       "    <tr>\n",
       "      <th>29</th>\n",
       "      <td>chr1</td>\n",
       "      <td>233432</td>\n",
       "      <td>233468</td>\n",
       "    </tr>\n",
       "    <tr>\n",
       "      <th>31</th>\n",
       "      <td>chr1</td>\n",
       "      <td>325335</td>\n",
       "      <td>325371</td>\n",
       "    </tr>\n",
       "  </tbody>\n",
       "</table>\n",
       "</div>"
      ],
      "text/plain": [
       "   chrom_x   start     end\n",
       "0     chr1   16123   16159\n",
       "3     chr1   28732   28768\n",
       "7     chr1   39560   39596\n",
       "9     chr1   51716   51752\n",
       "13    chr1   88500   88536\n",
       "17    chr1  121397  121433\n",
       "18    chr1  138763  138799\n",
       "21    chr1  159781  159817\n",
       "29    chr1  233432  233468\n",
       "31    chr1  325335  325371"
      ]
     },
     "execution_count": 72,
     "metadata": {},
     "output_type": "execute_result"
    }
   ],
   "source": [
    "nonmatch[0:10][['chrom_x','start','end']]"
   ]
  },
  {
   "cell_type": "markdown",
   "metadata": {},
   "source": [
    "Lets look at these ranges\n"
   ]
  },
  {
   "cell_type": "code",
   "execution_count": 73,
   "metadata": {
    "collapsed": false
   },
   "outputs": [],
   "source": [
    "from Bio import SeqIO"
   ]
  },
  {
   "cell_type": "code",
   "execution_count": 74,
   "metadata": {
    "collapsed": false
   },
   "outputs": [],
   "source": [
    "hg19 = SeqIO.index('hg19.fa','fasta')"
   ]
  },
  {
   "cell_type": "code",
   "execution_count": 75,
   "metadata": {
    "collapsed": true
   },
   "outputs": [],
   "source": [
    "chr1 = hg19['chr1']"
   ]
  },
  {
   "cell_type": "code",
   "execution_count": 91,
   "metadata": {
    "collapsed": false
   },
   "outputs": [
    {
     "name": "stdout",
     "output_type": "stream",
     "text": [
      "GCTCCTCCGACCCAGCGCGGGCACCTCCCTCCACCC GCGG -0.000226541618\n",
      "TCAAGGAAGGATTAGGCCGCCTTCATTCAGATCTAT CCGC -0.009109273431\n",
      "TGTAGAAACCCAGACCCCGCTAAATGGAAAATACCA CCGC -0.006072370645\n",
      "AGAGCCGGGGGAGGTGGCGGGCTGGGTGTGCAGAGT GCGG -0.000377755009\n",
      "TGACCTTGTGATCTGCCCGCCTCGGCCTCCCAAAGT CCGC -0.008136388323\n",
      "GCCGATCGCGTGGACCCCGCCTCTGGGCCAAAGGGA CCGC -0.012737105013\n",
      "TTGGATAGAATGGGAGGCGGGTTTGCCCTAGGCAGT GCGG -0.015872660931\n",
      "GCAGTGAGCCGAGATCCCGCCACTGCACTCCAGCCT CCGC -0.00295367149\n",
      "CTTCAATCTACTTCTCCCGCCGCCGGGAAAAAAGGC CCGC -0.005389548511\n",
      "GTCTGAACTATCCTGCCCGCCATCATCCTAGTCCTT CCGC -0.001386114198\n",
      "AGAAAAAAAAAAACCACCGCCATCATTTTGCAAGTG CCGC -0.047098364329\n",
      "CAACACACAGAACCTGGCGGGGAGGTCACTCTTACC GCGG -0.005918982024\n",
      "TGATGTAGCCGAACACCCGCGCCTCTAACGTCGCCA CCGC -0.007212895236\n",
      "ATATTTAGGCTGATGGGCGGCAAAATTAGAAAGTAT GCGG -0.008512804463\n",
      "AGCAGCAGAGCAGAGGGCGGCAAGAGCACCAAGGCC GCGG -0.006153405059\n",
      "CTCAGTGGGGATGATGGCGGGAAGGCGCCTCCCTCT GCGG -0.001339116507\n",
      "TGCCTGTCCAGCAGACCCGCCCTTTCTATACTACCT CCGC -0.020969009863\n",
      "TGTGGCAGGGCTCCTCCCGCCAAGTCGCCATGGAGA CCGC -0.004742545774\n",
      "CTGAAACGCTGAGTGCCCGCCACTCTCAGGTCAGGT CCGC -0.021041970107\n",
      "GGATAAGAACAGAGGAGCGGGTTTTAAGGGGGACGT GCGG -0.010611386976\n"
     ]
    }
   ],
   "source": [
    "def print_scores_and_sequences(df):\n",
    "    for i, x in df.iterrows():\n",
    "        s = x['start']\n",
    "        e = x['end']\n",
    "        chrom = x['chrom_x']\n",
    "        seq = str(chr1[s:e].upper().seq)\n",
    "        print seq, seq[16:20], x['delta']\n",
    "print_scores_and_sequences(nonmatch[10:30])"
   ]
  },
  {
   "cell_type": "code",
   "execution_count": 92,
   "metadata": {
    "collapsed": false
   },
   "outputs": [
    {
     "name": "stdout",
     "output_type": "stream",
     "text": [
      "ACTTTGGGAGGCCAAGGCGGGTAGATCTTGAGATCA GCGG -1.43658000051e-07\n",
      "TCATTATTCTTTCTTGGCGGGGAATGGATTCCAGAG GCGG -0.028193669613\n",
      "ACTTTGGGAGGCTGAGGCGGGTGAATCTCCTGAAGT GCGG -4.08398000029e-07\n",
      "GGGAGGTCACAATGAGGCGGTCTCCAGGGGTCTTTT GCGG -1.77610000013e-07\n",
      "GAGGCGCAGTTCCAGGGCGGCTTTCCCCCTCACTTC GCGG -9.09489999978e-08\n",
      "CTTTCAATGAAGATAGCCGCCTAAAGTTATACAAAT CCGC 2.14180999991e-07\n",
      "GAAAAAGACTGAGGCCCCGCCAGATGCAACTGCCCA CCGC -7.12500000111e-08\n",
      "TATTGGTTCATTAACTGCGGCAAATTATGTAAGATA GCGG 2.20882000024e-07\n",
      "TAGAAAAACAAAAATGGCGGGACATTCTACGGGTGA GCGG -4.65168000008e-07\n",
      "ACTGCTTAGGGCAAACCCGCCTCCCATTCTATCCAA CCGC -0.017205684542\n",
      "GGATTACAGGCGTGAGCCGCCATCCCTGGCCCAGTT CCGC -1.23522999995e-07\n",
      "TCCTGTCCAGCTCATGGCGGCCAATGTAGGCCCAAA GCGG -0.03172383513\n",
      "ACCAAAATGACCATAGGCGGTAATTCCCCAGGCCGT GCGG 1.0591899996e-07\n",
      "GCTCCTCCGACCCAGCGCGGGCACCTCCCTCCACCC GCGG -0.000226541618\n",
      "TCAAGGAAGGATTAGGCCGCCTTCATTCAGATCTAT CCGC -0.009109273431\n",
      "TGTTTGATGTTTGAAGGCGGCTCGGTTCCTTTAGCT GCGG 3.24880000124e-08\n",
      "TGTAGAAACCCAGACCCCGCTAAATGGAAAATACCA CCGC -0.006072370645\n",
      "TGGCCTAATATTCTTCCCGCCCACGGAGCTCTTGCC CCGC -1.36423999986e-07\n",
      "AGAGCCGGGGGAGGTGGCGGGCTGGGTGTGCAGAGT GCGG -0.000377755009\n",
      "TGACCTTGTGATCTGCCCGCCTCGGCCTCCCAAAGT CCGC -0.008136388323\n"
     ]
    }
   ],
   "source": [
    "print_scores_and_sequences(merged[20:40])"
   ]
  },
  {
   "cell_type": "code",
   "execution_count": 100,
   "metadata": {
    "collapsed": false
   },
   "outputs": [
    {
     "data": {
      "text/html": [
       "<div>\n",
       "<table border=\"1\" class=\"dataframe\">\n",
       "  <thead>\n",
       "    <tr style=\"text-align: right;\">\n",
       "      <th></th>\n",
       "      <th>chrom_x</th>\n",
       "      <th>start</th>\n",
       "      <th>end</th>\n",
       "      <th>score_x</th>\n",
       "      <th>start2_x</th>\n",
       "      <th>end2</th>\n",
       "      <th>chrom_y</th>\n",
       "      <th>start2_y</th>\n",
       "      <th>score_y</th>\n",
       "      <th>delta</th>\n",
       "    </tr>\n",
       "  </thead>\n",
       "  <tbody>\n",
       "    <tr>\n",
       "      <th>1890</th>\n",
       "      <td>chr1</td>\n",
       "      <td>4655058</td>\n",
       "      <td>4655094</td>\n",
       "      <td>0.277158</td>\n",
       "      <td>4655066</td>\n",
       "      <td>4655086</td>\n",
       "      <td>chr1</td>\n",
       "      <td>4655066</td>\n",
       "      <td>0.338416</td>\n",
       "      <td>-0.061258</td>\n",
       "    </tr>\n",
       "  </tbody>\n",
       "</table>\n",
       "</div>"
      ],
      "text/plain": [
       "     chrom_x    start      end   score_x  start2_x     end2 chrom_y  start2_y  \\\n",
       "1890    chr1  4655058  4655094  0.277158   4655066  4655086    chr1   4655066   \n",
       "\n",
       "       score_y     delta  \n",
       "1890  0.338416 -0.061258  "
      ]
     },
     "execution_count": 100,
     "metadata": {},
     "output_type": "execute_result"
    }
   ],
   "source": [
    "merged[merged['delta'] < -0.06]"
   ]
  },
  {
   "cell_type": "code",
   "execution_count": 101,
   "metadata": {
    "collapsed": false
   },
   "outputs": [
    {
     "name": "stdout",
     "output_type": "stream",
     "text": [
      "ATTCGGAGAATAACAGGCGGTTTTCCAAAATCAAAC GCGG -0.061257579413\n"
     ]
    }
   ],
   "source": [
    "print_scores_and_sequences(merged[merged['delta'] < -0.06])"
   ]
  },
  {
   "cell_type": "code",
   "execution_count": 102,
   "metadata": {
    "collapsed": true
   },
   "outputs": [],
   "source": [
    "%matplotlib inline"
   ]
  },
  {
   "cell_type": "code",
   "execution_count": 129,
   "metadata": {
    "collapsed": false
   },
   "outputs": [
    {
     "data": {
      "text/plain": [
       "<matplotlib.axes._subplots.AxesSubplot at 0x1100c7290>"
      ]
     },
     "execution_count": 129,
     "metadata": {},
     "output_type": "execute_result"
    },
    {
     "data": {
      "image/png": "[encoded data removed]",
      "text/plain": [
       "<matplotlib.figure.Figure at 0x10f00ee10>"
      ]
     },
     "metadata": {},
     "output_type": "display_data"
    }
   ],
   "source": [
    "merged['delta'].hist(bins=25)"
   ]
  },
  {
   "cell_type": "markdown",
   "metadata": {},
   "source": [
    "What next, re-run data without intercept term and see if it's any better?"
   ]
  },
  {
   "cell_type": "code",
   "execution_count": 110,
   "metadata": {
    "collapsed": false
   },
   "outputs": [
    {
     "name": "stdout",
     "output_type": "stream",
     "text": [
      "<class 'pandas.core.frame.DataFrame'>\n",
      "Int64Index: 1995 entries, 0 to 1994\n",
      "Data columns (total 10 columns):\n",
      "chrom_x     1995 non-null object\n",
      "start       1995 non-null int64\n",
      "end         1995 non-null int64\n",
      "score_x     1995 non-null float64\n",
      "start2_x    1995 non-null int64\n",
      "end2        1995 non-null int64\n",
      "chrom_y     1995 non-null object\n",
      "start2_y    1995 non-null int64\n",
      "score_y     1995 non-null float64\n",
      "delta       1995 non-null float64\n",
      "dtypes: float64(3), int64(5), object(2)\n",
      "memory usage: 171.4+ KB\n"
     ]
    }
   ],
   "source": [
    "merged.info()"
   ]
  },
  {
   "cell_type": "code",
   "execution_count": 128,
   "metadata": {
    "collapsed": false
   },
   "outputs": [
    {
     "data": {
      "text/html": [
       "<div>\n",
       "<table border=\"1\" class=\"dataframe\">\n",
       "  <thead>\n",
       "    <tr style=\"text-align: right;\">\n",
       "      <th></th>\n",
       "      <th>start</th>\n",
       "      <th>end</th>\n",
       "      <th>score_x</th>\n",
       "      <th>start2_x</th>\n",
       "      <th>end2</th>\n",
       "      <th>start2_y</th>\n",
       "      <th>score_y</th>\n",
       "      <th>delta</th>\n",
       "    </tr>\n",
       "  </thead>\n",
       "  <tbody>\n",
       "    <tr>\n",
       "      <th>count</th>\n",
       "      <td>1995.000000</td>\n",
       "      <td>1995.000000</td>\n",
       "      <td>1995.000000</td>\n",
       "      <td>1995.000000</td>\n",
       "      <td>1995.000000</td>\n",
       "      <td>1995.000000</td>\n",
       "      <td>1995.000000</td>\n",
       "      <td>1.995000e+03</td>\n",
       "    </tr>\n",
       "    <tr>\n",
       "      <th>mean</th>\n",
       "      <td>2490954.475689</td>\n",
       "      <td>2490990.475689</td>\n",
       "      <td>0.262062</td>\n",
       "      <td>2490962.475689</td>\n",
       "      <td>2490982.475689</td>\n",
       "      <td>2490962.475689</td>\n",
       "      <td>0.269614</td>\n",
       "      <td>-7.551982e-03</td>\n",
       "    </tr>\n",
       "    <tr>\n",
       "      <th>std</th>\n",
       "      <td>1204280.832435</td>\n",
       "      <td>1204280.832435</td>\n",
       "      <td>0.053279</td>\n",
       "      <td>1204280.832435</td>\n",
       "      <td>1204280.832435</td>\n",
       "      <td>1204280.832435</td>\n",
       "      <td>0.054075</td>\n",
       "      <td>1.149799e-02</td>\n",
       "    </tr>\n",
       "    <tr>\n",
       "      <th>min</th>\n",
       "      <td>16123.000000</td>\n",
       "      <td>16159.000000</td>\n",
       "      <td>0.207084</td>\n",
       "      <td>16131.000000</td>\n",
       "      <td>16151.000000</td>\n",
       "      <td>16131.000000</td>\n",
       "      <td>0.207118</td>\n",
       "      <td>-6.125758e-02</td>\n",
       "    </tr>\n",
       "    <tr>\n",
       "      <th>25%</th>\n",
       "      <td>1475588.500000</td>\n",
       "      <td>1475624.500000</td>\n",
       "      <td>0.223276</td>\n",
       "      <td>1475596.500000</td>\n",
       "      <td>1475616.500000</td>\n",
       "      <td>1475596.500000</td>\n",
       "      <td>0.230137</td>\n",
       "      <td>-1.233719e-02</td>\n",
       "    </tr>\n",
       "    <tr>\n",
       "      <th>50%</th>\n",
       "      <td>2338639.000000</td>\n",
       "      <td>2338675.000000</td>\n",
       "      <td>0.246027</td>\n",
       "      <td>2338647.000000</td>\n",
       "      <td>2338667.000000</td>\n",
       "      <td>2338647.000000</td>\n",
       "      <td>0.254276</td>\n",
       "      <td>-4.384640e-07</td>\n",
       "    </tr>\n",
       "    <tr>\n",
       "      <th>75%</th>\n",
       "      <td>3408104.500000</td>\n",
       "      <td>3408140.500000</td>\n",
       "      <td>0.283994</td>\n",
       "      <td>3408112.500000</td>\n",
       "      <td>3408132.500000</td>\n",
       "      <td>3408112.500000</td>\n",
       "      <td>0.292239</td>\n",
       "      <td>2.045950e-08</td>\n",
       "    </tr>\n",
       "    <tr>\n",
       "      <th>max</th>\n",
       "      <td>5096177.000000</td>\n",
       "      <td>5096213.000000</td>\n",
       "      <td>0.575803</td>\n",
       "      <td>5096185.000000</td>\n",
       "      <td>5096205.000000</td>\n",
       "      <td>5096185.000000</td>\n",
       "      <td>0.582213</td>\n",
       "      <td>4.988090e-07</td>\n",
       "    </tr>\n",
       "  </tbody>\n",
       "</table>\n",
       "</div>"
      ],
      "text/plain": [
       "                start             end      score_x        start2_x  \\\n",
       "count     1995.000000     1995.000000  1995.000000     1995.000000   \n",
       "mean   2490954.475689  2490990.475689     0.262062  2490962.475689   \n",
       "std    1204280.832435  1204280.832435     0.053279  1204280.832435   \n",
       "min      16123.000000    16159.000000     0.207084    16131.000000   \n",
       "25%    1475588.500000  1475624.500000     0.223276  1475596.500000   \n",
       "50%    2338639.000000  2338675.000000     0.246027  2338647.000000   \n",
       "75%    3408104.500000  3408140.500000     0.283994  3408112.500000   \n",
       "max    5096177.000000  5096213.000000     0.575803  5096185.000000   \n",
       "\n",
       "                 end2        start2_y      score_y         delta  \n",
       "count     1995.000000     1995.000000  1995.000000  1.995000e+03  \n",
       "mean   2490982.475689  2490962.475689     0.269614 -7.551982e-03  \n",
       "std    1204280.832435  1204280.832435     0.054075  1.149799e-02  \n",
       "min      16151.000000    16131.000000     0.207118 -6.125758e-02  \n",
       "25%    1475616.500000  1475596.500000     0.230137 -1.233719e-02  \n",
       "50%    2338667.000000  2338647.000000     0.254276 -4.384640e-07  \n",
       "75%    3408132.500000  3408112.500000     0.292239  2.045950e-08  \n",
       "max    5096205.000000  5096185.000000     0.582213  4.988090e-07  "
      ]
     },
     "execution_count": 128,
     "metadata": {},
     "output_type": "execute_result"
    }
   ],
   "source": [
    "merged.describe()"
   ]
  },
  {
   "cell_type": "markdown",
   "metadata": {},
   "source": [
    "re-ran without intercepts. There were very few matches"
   ]
  },
  {
   "cell_type": "code",
   "execution_count": 130,
   "metadata": {
    "collapsed": false
   },
   "outputs": [
    {
     "data": {
      "text/plain": [
       "24429"
      ]
     },
     "execution_count": 130,
     "metadata": {},
     "output_type": "execute_result"
    }
   ],
   "source": [
    "len(t)"
   ]
  },
  {
   "cell_type": "code",
   "execution_count": 131,
   "metadata": {
    "collapsed": false
   },
   "outputs": [
    {
     "data": {
      "text/plain": [
       "2144"
      ]
     },
     "execution_count": 131,
     "metadata": {},
     "output_type": "execute_result"
    }
   ],
   "source": [
    "len(filtered)"
   ]
  },
  {
   "cell_type": "code",
   "execution_count": 132,
   "metadata": {
    "collapsed": false
   },
   "outputs": [
    {
     "data": {
      "text/plain": [
       "1995"
      ]
     },
     "execution_count": 132,
     "metadata": {},
     "output_type": "execute_result"
    }
   ],
   "source": [
    "len(merged)"
   ]
  },
  {
   "cell_type": "code",
   "execution_count": 134,
   "metadata": {
    "collapsed": false
   },
   "outputs": [
    {
     "data": {
      "text/plain": [
       "0.9305037313432836"
      ]
     },
     "execution_count": 134,
     "metadata": {},
     "output_type": "execute_result"
    }
   ],
   "source": [
    "float(len(merged)) / float(len(filtered))"
   ]
  },
  {
   "cell_type": "markdown",
   "metadata": {},
   "source": [
    "93 % match"
   ]
  },
  {
   "cell_type": "markdown",
   "metadata": {},
   "source": [
    "Maybe it's a difference between libsvm versions? Can I extract the matrix for one of these worse predictions and run it manually?"
   ]
  },
  {
   "cell_type": "code",
   "execution_count": 136,
   "metadata": {
    "collapsed": false
   },
   "outputs": [],
   "source": [
    "from predict_genome import svr_features_from_sequence"
   ]
  },
  {
   "cell_type": "code",
   "execution_count": 137,
   "metadata": {
    "collapsed": true
   },
   "outputs": [],
   "source": [
    "# worst seqeunce was ATTCGGAGAATAACAGGCGGTTTTCCAAAATCAAAC GCGG -0.061257579413\n",
    "features = svr_features_from_sequence('ATTCGGAGAATAACAGGCGGTTTTCCAAAATCAAAC', [3])"
   ]
  },
  {
   "cell_type": "code",
   "execution_count": 148,
   "metadata": {
    "collapsed": false
   },
   "outputs": [],
   "source": [
    "features_list = ['0','1:1']\n",
    "\n",
    "for i, feat in enumerate(features):\n",
    "    s = '{}:{}'.format(i+2, feat['value'])\n",
    "    features_list.append(s)\n",
    "\n",
    "feature_matrix = '\\t'.join(features_list)"
   ]
  },
  {
   "cell_type": "code",
   "execution_count": 149,
   "metadata": {
    "collapsed": false
   },
   "outputs": [],
   "source": [
    "with open('feature-matrix-test.txt', 'w') as f:\n",
    "    print >> f, feature_matrix"
   ]
  },
  {
   "cell_type": "code",
   "execution_count": 150,
   "metadata": {
    "collapsed": false
   },
   "outputs": [
    {
     "name": "stdout",
     "output_type": "stream",
     "text": [
      "Mean squared error = 0.0768168 (regression)\n",
      "Squared correlation coefficient = nan (regression)\n",
      "0.277158\n"
     ]
    }
   ],
   "source": [
    "%%bash\n",
    "\n",
    "svm-predict feature-matrix-test.txt E2F1_SVR.model feature-matrix-output.txt\n",
    "cat feature-matrix-output.txt"
   ]
  },
  {
   "cell_type": "markdown",
   "metadata": {},
   "source": [
    "Got same output on compute01, and these match my code. So something else must be different?\n",
    "I guess I can run TF_Enrichment directly on that sequennce"
   ]
  },
  {
   "cell_type": "markdown",
   "metadata": {},
   "source": [
    "Put sequence range in a file dcl9_outlier.txt"
   ]
  },
  {
   "cell_type": "code",
   "execution_count": 152,
   "metadata": {
    "collapsed": false
   },
   "outputs": [
    {
     "name": "stdout",
     "output_type": "stream",
     "text": [
      "chr1\t4655058\t4655094\r\n"
     ]
    }
   ],
   "source": [
    "%cat dcl9-outlier.txt"
   ]
  },
  {
   "cell_type": "code",
   "execution_count": 156,
   "metadata": {
    "collapsed": false
   },
   "outputs": [
    {
     "name": "stdout",
     "output_type": "stream",
     "text": [
      "\n",
      "Running the program to get scores for genomic sequences using a SVR or PWM model.\n",
      "Check example files for proper input file formats.\n",
      "Generally speaking, input files should not contain any headers.\n",
      "\n",
      "Note!  If the program needs to get genomic sequences, more than 3GB of memory will be required.\n",
      "\n",
      "Writing info about this run to dcl9-outlier-output.txt_info.txt\n",
      "no sequence found in input file\n",
      "Generating the sequences for the data sets...\n",
      "This program needs at least 3GB of free memory for loading the genome file\n",
      "Loading the whole genome from hg19.fa\n",
      "Reading chr1 ...\n",
      "Reading chr2 ...\n",
      "Reading chr3 ...\n",
      "Reading chr4 ...\n",
      "Reading chr5 ...\n",
      "Reading chr6 ...\n",
      "Reading chr7 ...\n",
      "Reading chrX ...\n",
      "Reading chr8 ...\n",
      "Reading chr9 ...\n",
      "Reading chr10 ...\n",
      "Reading chr11 ...\n",
      "Reading chr12 ...\n",
      "Reading chr13 ...\n",
      "Reading chr14 ...\n",
      "Reading chr15 ...\n",
      "Reading chr16 ...\n",
      "Reading chr17 ...\n",
      "Reading chr18 ...\n",
      "Reading chr20 ...\n",
      "Reading chrY ...\n",
      "Reading chr19 ...\n",
      "Reading chr22 ...\n",
      "Reading chr21 ...\n",
      "Getting scores for this sequence using the SVR model...\n",
      "Total number of sequences in the input file: 1\n",
      "Organizing the sequences for libsvm ...\n",
      "  Getting the SVR scores for 2 small sequences\n",
      "svm-predict SVRmatrix_temp.txt E2F1_SVR.model SVRmatrix_temp-prediction.txt\n",
      "Processing SVR scores\n",
      "Formatting results for part 1 out of 1 and updating output file: dcl9-outlier-output.txt_E2F1_SVR_SVR-scores.txt\n"
     ]
    }
   ],
   "source": [
    "%run TF_enrichment.py -t SVR -s dcl9-outlier.txt -g hg19.fa -m E2F1_SVR.model -o dcl9-outlier-output.txt"
   ]
  },
  {
   "cell_type": "code",
   "execution_count": 157,
   "metadata": {
    "collapsed": false
   },
   "outputs": [
    {
     "name": "stdout",
     "output_type": "stream",
     "text": [
      "chr1\t4655058\t4655094\t0.338416\r\n"
     ]
    }
   ],
   "source": [
    "%cat dcl9-outlier-output.txt_E2F1_SVR_SVR-scores.txt"
   ]
  },
  {
   "cell_type": "markdown",
   "metadata": {},
   "source": [
    "shows that the returned score was 0.33, but the intermediate file shows that two scores were predicted for one sequence"
   ]
  },
  {
   "cell_type": "code",
   "execution_count": 159,
   "metadata": {
    "collapsed": false
   },
   "outputs": [
    {
     "name": "stdout",
     "output_type": "stream",
     "text": [
      "0.338416\r\n",
      "0.277158\r\n"
     ]
    }
   ],
   "source": [
    "%cat SVRmatrix_temp-prediction.txt"
   ]
  },
  {
   "cell_type": "markdown",
   "metadata": {},
   "source": [
    "But why were two predictions made? Because I left the tool to default `best`, and it found one of the other cores in the reverse complement sequence. If I run with `--direction fwd` it only returns the .277 score"
   ]
  },
  {
   "cell_type": "code",
   "execution_count": 160,
   "metadata": {
    "collapsed": false
   },
   "outputs": [
    {
     "name": "stdout",
     "output_type": "stream",
     "text": [
      "\n",
      "Running the program to get scores for genomic sequences using a SVR or PWM model.\n",
      "Check example files for proper input file formats.\n",
      "Generally speaking, input files should not contain any headers.\n",
      "\n",
      "Note!  If the program needs to get genomic sequences, more than 3GB of memory will be required.\n",
      "\n",
      "Writing info about this run to dcl9-outlier-output-fwdonly.txt_info.txt\n",
      "no sequence found in input file\n",
      "Loading the data sets with sequences generated previously (delete or rename them if you want generate new ones)\n",
      "Getting scores for this sequence using the SVR model...\n",
      "Total number of sequences in the input file: 1\n",
      "Organizing the sequences for libsvm ...\n",
      "  Getting the SVR scores for 2 small sequences\n",
      "svm-predict SVRmatrix_temp.txt E2F1_SVR.model SVRmatrix_temp-prediction.txt\n",
      "Processing SVR scores\n",
      "Formatting results for part 1 out of 1 and updating output file: dcl9-outlier-output-fwdonly.txt_E2F1_SVR_FWD_SVR-scores.txt\n"
     ]
    }
   ],
   "source": [
    "%run TF_enrichment.py -t SVR -s dcl9-outlier.txt -g hg19.fa -m E2F1_SVR.model -o dcl9-outlier-output-fwdonly.txt --direction fwd"
   ]
  },
  {
   "cell_type": "code",
   "execution_count": 161,
   "metadata": {
    "collapsed": false
   },
   "outputs": [
    {
     "name": "stdout",
     "output_type": "stream",
     "text": [
      "chr1\t4655058\t4655094\t0.277158\r\n"
     ]
    }
   ],
   "source": [
    "%cat dcl9-outlier-output-fwdonly.txt_E2F1_SVR_FWD_SVR-scores.txt"
   ]
  },
  {
   "cell_type": "markdown",
   "metadata": {},
   "source": [
    "## Predicting on multiple cores and combining\n",
    "\n",
    "In order to test this, I must run predictions on all 3 cores, then take the maximum score for each region. I'll do this with sqlite and pandas"
   ]
  },
  {
   "cell_type": "markdown",
   "metadata": {},
   "source": [
    "Load in the original file into sqlite"
   ]
  },
  {
   "cell_type": "code",
   "execution_count": 170,
   "metadata": {
    "collapsed": false
   },
   "outputs": [],
   "source": [
    "import sqlite3"
   ]
  },
  {
   "cell_type": "code",
   "execution_count": 172,
   "metadata": {
    "collapsed": true
   },
   "outputs": [],
   "source": [
    "memory_conn = sqlite3.connect(\":memory:\")"
   ]
  },
  {
   "cell_type": "code",
   "execution_count": 167,
   "metadata": {
    "collapsed": false
   },
   "outputs": [],
   "source": [
    "chr1_schipper.columns = ['chrom','start','end','score']"
   ]
  },
  {
   "cell_type": "code",
   "execution_count": 173,
   "metadata": {
    "collapsed": false
   },
   "outputs": [],
   "source": [
    "chr1_schipper.to_sql('chr1_schipper',memory_conn)"
   ]
  },
  {
   "cell_type": "code",
   "execution_count": 176,
   "metadata": {
    "collapsed": false
   },
   "outputs": [
    {
     "name": "stdout",
     "output_type": "stream",
     "text": [
      "(0, u'chr1', 10621, 10641, 0.445805)\n",
      "(1, u'chr1', 10623, 10643, 0.376673)\n",
      "(2, u'chr1', 10650, 10670, 0.348493)\n",
      "(3, u'chr1', 10652, 10672, 0.296117)\n",
      "(4, u'chr1', 10921, 10941, 0.207956)\n",
      "(5, u'chr1', 11072, 11092, 0.28844200000000003)\n",
      "(6, u'chr1', 11106, 11126, 0.265825)\n",
      "(7, u'chr1', 11216, 11236, 0.30495)\n",
      "(8, u'chr1', 11287, 11307, 0.21586)\n",
      "(9, u'chr1', 16131, 16151, 0.317127)\n"
     ]
    }
   ],
   "source": [
    "for row in memory_conn.execute('select * from chr1_schipper limit 10'):\n",
    "    print row"
   ]
  },
  {
   "cell_type": "code",
   "execution_count": 187,
   "metadata": {
    "collapsed": false
   },
   "outputs": [],
   "source": [
    "# Load existing predictions into database\n",
    "for f in ['E2F1-CCGC.txt','E2F1-GCGC.txt','E2F1-GCGG.txt']:\n",
    "    table_name = f.split('.')[0].replace('-','_')\n",
    "    t = pandas.read_table(f, delimiter=' ',header=None)\n",
    "    t.columns = ['chrom','start','end','score']\n",
    "    t.to_sql(table_name, memory_conn)\n"
   ]
  },
  {
   "cell_type": "code",
   "execution_count": 211,
   "metadata": {
    "collapsed": false
   },
   "outputs": [],
   "source": [
    "query = '''\n",
    "SELECT \n",
    "    chr1_schipper.chrom, \n",
    "    chr1_schipper.start, \n",
    "    chr1_schipper.end, \n",
    "    chr1_schipper.score as schipper_score,\n",
    "    E2F1_CCGC.score as E2F1_CCGC_score,\n",
    "    E2F1_GCGG.score as E2F1_GCGG_score,\n",
    "    E2F1_GCGC.score as E2F1_GCGC_score\n",
    "FROM chr1_schipper\n",
    "    LEFT JOIN E2F1_CCGC ON chr1_schipper.start - 8 = E2F1_CCGC.start\n",
    "    LEFT JOIN E2F1_GCGG ON chr1_schipper.start - 8 = E2F1_GCGG.start\n",
    "    LEFT JOIN E2F1_GCGC ON chr1_schipper.start - 8 = E2F1_GCGC.start\n",
    "'''\n",
    "aligned_chr1 = pandas.read_sql_query(query, memory_conn)\n"
   ]
  },
  {
   "cell_type": "code",
   "execution_count": 186,
   "metadata": {
    "collapsed": false
   },
   "outputs": [
    {
     "name": "stdout",
     "output_type": "stream",
     "text": [
      "E2F1_CCGC\n",
      "E2F1_GCGC\n",
      "E2F1_GCGG\n"
     ]
    }
   ],
   "source": [
    "for f in ['E2F1-CCGC.txt','E2F1-GCGC.txt','E2F1-GCGG.txt']:\n",
    "    table_name = f.split('.')[0].replace('-','_')\n",
    "    print table_name\n"
   ]
  },
  {
   "cell_type": "code",
   "execution_count": null,
   "metadata": {
    "collapsed": true
   },
   "outputs": [],
   "source": []
  },
  {
   "cell_type": "code",
   "execution_count": 220,
   "metadata": {
    "collapsed": false
   },
   "outputs": [],
   "source": [
    "aligned_chr1['E2F1_max_score'] = aligned_chr1[['E2F1_CCGC_score','E2F1_GCGG_score','E2F1_GCGC_score']].max(axis=1)"
   ]
  },
  {
   "cell_type": "code",
   "execution_count": 223,
   "metadata": {
    "collapsed": false
   },
   "outputs": [],
   "source": [
    "aligned_chr1['delta'] = aligned_chr1['E2F1_max_score'] - aligned_chr1['schipper_score']"
   ]
  },
  {
   "cell_type": "code",
   "execution_count": 227,
   "metadata": {
    "collapsed": false
   },
   "outputs": [],
   "source": [
    "aligned_chr1.to_sql('aligned_chr1',memory_conn)"
   ]
  },
  {
   "cell_type": "code",
   "execution_count": 244,
   "metadata": {
    "collapsed": false
   },
   "outputs": [
    {
     "data": {
      "text/html": [
       "<div>\n",
       "<table border=\"1\" class=\"dataframe\">\n",
       "  <thead>\n",
       "    <tr style=\"text-align: right;\">\n",
       "      <th></th>\n",
       "      <th>chrom</th>\n",
       "      <th>start</th>\n",
       "      <th>end</th>\n",
       "      <th>schipper_score</th>\n",
       "      <th>E2F1_CCGC_score</th>\n",
       "      <th>E2F1_GCGG_score</th>\n",
       "      <th>E2F1_GCGC_score</th>\n",
       "      <th>E2F1_max_score</th>\n",
       "      <th>delta</th>\n",
       "    </tr>\n",
       "  </thead>\n",
       "  <tbody>\n",
       "    <tr>\n",
       "      <th>5430</th>\n",
       "      <td>chr1</td>\n",
       "      <td>5105748</td>\n",
       "      <td>5105768</td>\n",
       "      <td>0.250615</td>\n",
       "      <td>0.236664</td>\n",
       "      <td>NaN</td>\n",
       "      <td>NaN</td>\n",
       "      <td>0.236664</td>\n",
       "      <td>-0.013951</td>\n",
       "    </tr>\n",
       "    <tr>\n",
       "      <th>5431</th>\n",
       "      <td>chr1</td>\n",
       "      <td>5111017</td>\n",
       "      <td>5111037</td>\n",
       "      <td>0.245937</td>\n",
       "      <td>0.202821</td>\n",
       "      <td>NaN</td>\n",
       "      <td>NaN</td>\n",
       "      <td>0.202821</td>\n",
       "      <td>-0.043116</td>\n",
       "    </tr>\n",
       "    <tr>\n",
       "      <th>5437</th>\n",
       "      <td>chr1</td>\n",
       "      <td>5142520</td>\n",
       "      <td>5142540</td>\n",
       "      <td>0.493808</td>\n",
       "      <td>0.474741</td>\n",
       "      <td>NaN</td>\n",
       "      <td>NaN</td>\n",
       "      <td>0.474741</td>\n",
       "      <td>-0.019067</td>\n",
       "    </tr>\n",
       "    <tr>\n",
       "      <th>5443</th>\n",
       "      <td>chr1</td>\n",
       "      <td>5157384</td>\n",
       "      <td>5157404</td>\n",
       "      <td>0.296127</td>\n",
       "      <td>0.245459</td>\n",
       "      <td>NaN</td>\n",
       "      <td>NaN</td>\n",
       "      <td>0.245459</td>\n",
       "      <td>-0.050668</td>\n",
       "    </tr>\n",
       "    <tr>\n",
       "      <th>5446</th>\n",
       "      <td>chr1</td>\n",
       "      <td>5164966</td>\n",
       "      <td>5164986</td>\n",
       "      <td>0.276661</td>\n",
       "      <td>0.262857</td>\n",
       "      <td>NaN</td>\n",
       "      <td>NaN</td>\n",
       "      <td>0.262857</td>\n",
       "      <td>-0.013804</td>\n",
       "    </tr>\n",
       "    <tr>\n",
       "      <th>5447</th>\n",
       "      <td>chr1</td>\n",
       "      <td>5170944</td>\n",
       "      <td>5170964</td>\n",
       "      <td>0.475559</td>\n",
       "      <td>0.459958</td>\n",
       "      <td>NaN</td>\n",
       "      <td>NaN</td>\n",
       "      <td>0.459958</td>\n",
       "      <td>-0.015601</td>\n",
       "    </tr>\n",
       "    <tr>\n",
       "      <th>5449</th>\n",
       "      <td>chr1</td>\n",
       "      <td>5176004</td>\n",
       "      <td>5176024</td>\n",
       "      <td>0.360167</td>\n",
       "      <td>0.317552</td>\n",
       "      <td>NaN</td>\n",
       "      <td>NaN</td>\n",
       "      <td>0.317552</td>\n",
       "      <td>-0.042615</td>\n",
       "    </tr>\n",
       "    <tr>\n",
       "      <th>5452</th>\n",
       "      <td>chr1</td>\n",
       "      <td>5179070</td>\n",
       "      <td>5179090</td>\n",
       "      <td>0.287219</td>\n",
       "      <td>0.270873</td>\n",
       "      <td>NaN</td>\n",
       "      <td>NaN</td>\n",
       "      <td>0.270873</td>\n",
       "      <td>-0.016346</td>\n",
       "    </tr>\n",
       "    <tr>\n",
       "      <th>5466</th>\n",
       "      <td>chr1</td>\n",
       "      <td>5217650</td>\n",
       "      <td>5217670</td>\n",
       "      <td>0.232882</td>\n",
       "      <td>0.206577</td>\n",
       "      <td>NaN</td>\n",
       "      <td>NaN</td>\n",
       "      <td>0.206577</td>\n",
       "      <td>-0.026305</td>\n",
       "    </tr>\n",
       "    <tr>\n",
       "      <th>5467</th>\n",
       "      <td>chr1</td>\n",
       "      <td>5220742</td>\n",
       "      <td>5220762</td>\n",
       "      <td>0.405746</td>\n",
       "      <td>0.385671</td>\n",
       "      <td>NaN</td>\n",
       "      <td>NaN</td>\n",
       "      <td>0.385671</td>\n",
       "      <td>-0.020075</td>\n",
       "    </tr>\n",
       "    <tr>\n",
       "      <th>5470</th>\n",
       "      <td>chr1</td>\n",
       "      <td>5235766</td>\n",
       "      <td>5235786</td>\n",
       "      <td>0.436714</td>\n",
       "      <td>0.401401</td>\n",
       "      <td>NaN</td>\n",
       "      <td>NaN</td>\n",
       "      <td>0.401401</td>\n",
       "      <td>-0.035313</td>\n",
       "    </tr>\n",
       "    <tr>\n",
       "      <th>5489</th>\n",
       "      <td>chr1</td>\n",
       "      <td>5288496</td>\n",
       "      <td>5288516</td>\n",
       "      <td>0.331109</td>\n",
       "      <td>0.305242</td>\n",
       "      <td>NaN</td>\n",
       "      <td>NaN</td>\n",
       "      <td>0.305242</td>\n",
       "      <td>-0.025867</td>\n",
       "    </tr>\n",
       "    <tr>\n",
       "      <th>5496</th>\n",
       "      <td>chr1</td>\n",
       "      <td>5313063</td>\n",
       "      <td>5313083</td>\n",
       "      <td>0.318053</td>\n",
       "      <td>0.305177</td>\n",
       "      <td>NaN</td>\n",
       "      <td>NaN</td>\n",
       "      <td>0.305177</td>\n",
       "      <td>-0.012876</td>\n",
       "    </tr>\n",
       "    <tr>\n",
       "      <th>5503</th>\n",
       "      <td>chr1</td>\n",
       "      <td>5334757</td>\n",
       "      <td>5334777</td>\n",
       "      <td>0.241415</td>\n",
       "      <td>0.220351</td>\n",
       "      <td>NaN</td>\n",
       "      <td>NaN</td>\n",
       "      <td>0.220351</td>\n",
       "      <td>-0.021064</td>\n",
       "    </tr>\n",
       "    <tr>\n",
       "      <th>5504</th>\n",
       "      <td>chr1</td>\n",
       "      <td>5335212</td>\n",
       "      <td>5335232</td>\n",
       "      <td>0.302153</td>\n",
       "      <td>0.282241</td>\n",
       "      <td>NaN</td>\n",
       "      <td>NaN</td>\n",
       "      <td>0.282241</td>\n",
       "      <td>-0.019912</td>\n",
       "    </tr>\n",
       "    <tr>\n",
       "      <th>5513</th>\n",
       "      <td>chr1</td>\n",
       "      <td>5352257</td>\n",
       "      <td>5352277</td>\n",
       "      <td>0.301879</td>\n",
       "      <td>0.230458</td>\n",
       "      <td>NaN</td>\n",
       "      <td>NaN</td>\n",
       "      <td>0.230458</td>\n",
       "      <td>-0.071421</td>\n",
       "    </tr>\n",
       "    <tr>\n",
       "      <th>5519</th>\n",
       "      <td>chr1</td>\n",
       "      <td>5360337</td>\n",
       "      <td>5360357</td>\n",
       "      <td>0.227077</td>\n",
       "      <td>0.214160</td>\n",
       "      <td>NaN</td>\n",
       "      <td>NaN</td>\n",
       "      <td>0.214160</td>\n",
       "      <td>-0.012917</td>\n",
       "    </tr>\n",
       "    <tr>\n",
       "      <th>5522</th>\n",
       "      <td>chr1</td>\n",
       "      <td>5369115</td>\n",
       "      <td>5369135</td>\n",
       "      <td>0.259098</td>\n",
       "      <td>0.230015</td>\n",
       "      <td>NaN</td>\n",
       "      <td>NaN</td>\n",
       "      <td>0.230015</td>\n",
       "      <td>-0.029083</td>\n",
       "    </tr>\n",
       "    <tr>\n",
       "      <th>5531</th>\n",
       "      <td>chr1</td>\n",
       "      <td>5401236</td>\n",
       "      <td>5401256</td>\n",
       "      <td>0.233315</td>\n",
       "      <td>0.177306</td>\n",
       "      <td>NaN</td>\n",
       "      <td>NaN</td>\n",
       "      <td>0.177306</td>\n",
       "      <td>-0.056009</td>\n",
       "    </tr>\n",
       "    <tr>\n",
       "      <th>5532</th>\n",
       "      <td>chr1</td>\n",
       "      <td>5405983</td>\n",
       "      <td>5406003</td>\n",
       "      <td>0.275650</td>\n",
       "      <td>0.257456</td>\n",
       "      <td>NaN</td>\n",
       "      <td>NaN</td>\n",
       "      <td>0.257456</td>\n",
       "      <td>-0.018194</td>\n",
       "    </tr>\n",
       "    <tr>\n",
       "      <th>5537</th>\n",
       "      <td>chr1</td>\n",
       "      <td>5414978</td>\n",
       "      <td>5414998</td>\n",
       "      <td>0.286697</td>\n",
       "      <td>0.240438</td>\n",
       "      <td>NaN</td>\n",
       "      <td>NaN</td>\n",
       "      <td>0.240438</td>\n",
       "      <td>-0.046259</td>\n",
       "    </tr>\n",
       "    <tr>\n",
       "      <th>5546</th>\n",
       "      <td>chr1</td>\n",
       "      <td>5443989</td>\n",
       "      <td>5444009</td>\n",
       "      <td>0.291055</td>\n",
       "      <td>0.264459</td>\n",
       "      <td>NaN</td>\n",
       "      <td>NaN</td>\n",
       "      <td>0.264459</td>\n",
       "      <td>-0.026596</td>\n",
       "    </tr>\n",
       "    <tr>\n",
       "      <th>5549</th>\n",
       "      <td>chr1</td>\n",
       "      <td>5452396</td>\n",
       "      <td>5452416</td>\n",
       "      <td>0.241469</td>\n",
       "      <td>0.213850</td>\n",
       "      <td>NaN</td>\n",
       "      <td>NaN</td>\n",
       "      <td>0.213850</td>\n",
       "      <td>-0.027619</td>\n",
       "    </tr>\n",
       "    <tr>\n",
       "      <th>5553</th>\n",
       "      <td>chr1</td>\n",
       "      <td>5463058</td>\n",
       "      <td>5463078</td>\n",
       "      <td>0.308389</td>\n",
       "      <td>0.257226</td>\n",
       "      <td>NaN</td>\n",
       "      <td>NaN</td>\n",
       "      <td>0.257226</td>\n",
       "      <td>-0.051163</td>\n",
       "    </tr>\n",
       "    <tr>\n",
       "      <th>5560</th>\n",
       "      <td>chr1</td>\n",
       "      <td>5483084</td>\n",
       "      <td>5483104</td>\n",
       "      <td>0.208127</td>\n",
       "      <td>0.172554</td>\n",
       "      <td>NaN</td>\n",
       "      <td>NaN</td>\n",
       "      <td>0.172554</td>\n",
       "      <td>-0.035573</td>\n",
       "    </tr>\n",
       "    <tr>\n",
       "      <th>5562</th>\n",
       "      <td>chr1</td>\n",
       "      <td>5487271</td>\n",
       "      <td>5487291</td>\n",
       "      <td>0.285578</td>\n",
       "      <td>0.271451</td>\n",
       "      <td>NaN</td>\n",
       "      <td>NaN</td>\n",
       "      <td>0.271451</td>\n",
       "      <td>-0.014127</td>\n",
       "    </tr>\n",
       "    <tr>\n",
       "      <th>5563</th>\n",
       "      <td>chr1</td>\n",
       "      <td>5489856</td>\n",
       "      <td>5489876</td>\n",
       "      <td>0.254710</td>\n",
       "      <td>0.243234</td>\n",
       "      <td>NaN</td>\n",
       "      <td>NaN</td>\n",
       "      <td>0.243234</td>\n",
       "      <td>-0.011476</td>\n",
       "    </tr>\n",
       "    <tr>\n",
       "      <th>5569</th>\n",
       "      <td>chr1</td>\n",
       "      <td>5502711</td>\n",
       "      <td>5502731</td>\n",
       "      <td>0.232237</td>\n",
       "      <td>0.203045</td>\n",
       "      <td>NaN</td>\n",
       "      <td>NaN</td>\n",
       "      <td>0.203045</td>\n",
       "      <td>-0.029192</td>\n",
       "    </tr>\n",
       "    <tr>\n",
       "      <th>5583</th>\n",
       "      <td>chr1</td>\n",
       "      <td>5521893</td>\n",
       "      <td>5521913</td>\n",
       "      <td>0.245036</td>\n",
       "      <td>0.228915</td>\n",
       "      <td>NaN</td>\n",
       "      <td>NaN</td>\n",
       "      <td>0.228915</td>\n",
       "      <td>-0.016121</td>\n",
       "    </tr>\n",
       "    <tr>\n",
       "      <th>5587</th>\n",
       "      <td>chr1</td>\n",
       "      <td>5524905</td>\n",
       "      <td>5524925</td>\n",
       "      <td>0.378591</td>\n",
       "      <td>0.347818</td>\n",
       "      <td>NaN</td>\n",
       "      <td>NaN</td>\n",
       "      <td>0.347818</td>\n",
       "      <td>-0.030773</td>\n",
       "    </tr>\n",
       "    <tr>\n",
       "      <th>...</th>\n",
       "      <td>...</td>\n",
       "      <td>...</td>\n",
       "      <td>...</td>\n",
       "      <td>...</td>\n",
       "      <td>...</td>\n",
       "      <td>...</td>\n",
       "      <td>...</td>\n",
       "      <td>...</td>\n",
       "      <td>...</td>\n",
       "    </tr>\n",
       "    <tr>\n",
       "      <th>15515</th>\n",
       "      <td>chr1</td>\n",
       "      <td>18735136</td>\n",
       "      <td>18735156</td>\n",
       "      <td>0.433341</td>\n",
       "      <td>0.393499</td>\n",
       "      <td>NaN</td>\n",
       "      <td>NaN</td>\n",
       "      <td>0.393499</td>\n",
       "      <td>-0.039842</td>\n",
       "    </tr>\n",
       "    <tr>\n",
       "      <th>15517</th>\n",
       "      <td>chr1</td>\n",
       "      <td>18737644</td>\n",
       "      <td>18737664</td>\n",
       "      <td>0.265553</td>\n",
       "      <td>0.249283</td>\n",
       "      <td>NaN</td>\n",
       "      <td>NaN</td>\n",
       "      <td>0.249283</td>\n",
       "      <td>-0.016270</td>\n",
       "    </tr>\n",
       "    <tr>\n",
       "      <th>15528</th>\n",
       "      <td>chr1</td>\n",
       "      <td>18772430</td>\n",
       "      <td>18772450</td>\n",
       "      <td>0.235305</td>\n",
       "      <td>0.205569</td>\n",
       "      <td>NaN</td>\n",
       "      <td>NaN</td>\n",
       "      <td>0.205569</td>\n",
       "      <td>-0.029736</td>\n",
       "    </tr>\n",
       "    <tr>\n",
       "      <th>15531</th>\n",
       "      <td>chr1</td>\n",
       "      <td>18775813</td>\n",
       "      <td>18775833</td>\n",
       "      <td>0.384470</td>\n",
       "      <td>0.373197</td>\n",
       "      <td>NaN</td>\n",
       "      <td>NaN</td>\n",
       "      <td>0.373197</td>\n",
       "      <td>-0.011273</td>\n",
       "    </tr>\n",
       "    <tr>\n",
       "      <th>15541</th>\n",
       "      <td>chr1</td>\n",
       "      <td>18802942</td>\n",
       "      <td>18802962</td>\n",
       "      <td>0.248745</td>\n",
       "      <td>0.232628</td>\n",
       "      <td>NaN</td>\n",
       "      <td>NaN</td>\n",
       "      <td>0.232628</td>\n",
       "      <td>-0.016117</td>\n",
       "    </tr>\n",
       "    <tr>\n",
       "      <th>15543</th>\n",
       "      <td>chr1</td>\n",
       "      <td>18804537</td>\n",
       "      <td>18804557</td>\n",
       "      <td>0.210056</td>\n",
       "      <td>0.199860</td>\n",
       "      <td>NaN</td>\n",
       "      <td>NaN</td>\n",
       "      <td>0.199860</td>\n",
       "      <td>-0.010196</td>\n",
       "    </tr>\n",
       "    <tr>\n",
       "      <th>15558</th>\n",
       "      <td>chr1</td>\n",
       "      <td>18829111</td>\n",
       "      <td>18829131</td>\n",
       "      <td>0.264077</td>\n",
       "      <td>0.250137</td>\n",
       "      <td>NaN</td>\n",
       "      <td>NaN</td>\n",
       "      <td>0.250137</td>\n",
       "      <td>-0.013940</td>\n",
       "    </tr>\n",
       "    <tr>\n",
       "      <th>15560</th>\n",
       "      <td>chr1</td>\n",
       "      <td>18837213</td>\n",
       "      <td>18837233</td>\n",
       "      <td>0.286957</td>\n",
       "      <td>0.261638</td>\n",
       "      <td>NaN</td>\n",
       "      <td>NaN</td>\n",
       "      <td>0.261638</td>\n",
       "      <td>-0.025319</td>\n",
       "    </tr>\n",
       "    <tr>\n",
       "      <th>15573</th>\n",
       "      <td>chr1</td>\n",
       "      <td>18877018</td>\n",
       "      <td>18877038</td>\n",
       "      <td>0.270394</td>\n",
       "      <td>0.243181</td>\n",
       "      <td>NaN</td>\n",
       "      <td>NaN</td>\n",
       "      <td>0.243181</td>\n",
       "      <td>-0.027213</td>\n",
       "    </tr>\n",
       "    <tr>\n",
       "      <th>15581</th>\n",
       "      <td>chr1</td>\n",
       "      <td>18895588</td>\n",
       "      <td>18895608</td>\n",
       "      <td>0.331717</td>\n",
       "      <td>0.312021</td>\n",
       "      <td>NaN</td>\n",
       "      <td>NaN</td>\n",
       "      <td>0.312021</td>\n",
       "      <td>-0.019696</td>\n",
       "    </tr>\n",
       "    <tr>\n",
       "      <th>15584</th>\n",
       "      <td>chr1</td>\n",
       "      <td>18905705</td>\n",
       "      <td>18905725</td>\n",
       "      <td>0.256678</td>\n",
       "      <td>0.243063</td>\n",
       "      <td>NaN</td>\n",
       "      <td>NaN</td>\n",
       "      <td>0.243063</td>\n",
       "      <td>-0.013615</td>\n",
       "    </tr>\n",
       "    <tr>\n",
       "      <th>15589</th>\n",
       "      <td>chr1</td>\n",
       "      <td>18910087</td>\n",
       "      <td>18910107</td>\n",
       "      <td>0.341715</td>\n",
       "      <td>0.301816</td>\n",
       "      <td>NaN</td>\n",
       "      <td>NaN</td>\n",
       "      <td>0.301816</td>\n",
       "      <td>-0.039899</td>\n",
       "    </tr>\n",
       "    <tr>\n",
       "      <th>15593</th>\n",
       "      <td>chr1</td>\n",
       "      <td>18913906</td>\n",
       "      <td>18913926</td>\n",
       "      <td>0.276248</td>\n",
       "      <td>0.263772</td>\n",
       "      <td>NaN</td>\n",
       "      <td>NaN</td>\n",
       "      <td>0.263772</td>\n",
       "      <td>-0.012476</td>\n",
       "    </tr>\n",
       "    <tr>\n",
       "      <th>15600</th>\n",
       "      <td>chr1</td>\n",
       "      <td>18918505</td>\n",
       "      <td>18918525</td>\n",
       "      <td>0.238939</td>\n",
       "      <td>0.218989</td>\n",
       "      <td>NaN</td>\n",
       "      <td>NaN</td>\n",
       "      <td>0.218989</td>\n",
       "      <td>-0.019950</td>\n",
       "    </tr>\n",
       "    <tr>\n",
       "      <th>15620</th>\n",
       "      <td>chr1</td>\n",
       "      <td>18945276</td>\n",
       "      <td>18945296</td>\n",
       "      <td>0.237398</td>\n",
       "      <td>0.222047</td>\n",
       "      <td>NaN</td>\n",
       "      <td>NaN</td>\n",
       "      <td>0.222047</td>\n",
       "      <td>-0.015351</td>\n",
       "    </tr>\n",
       "    <tr>\n",
       "      <th>15621</th>\n",
       "      <td>chr1</td>\n",
       "      <td>18945925</td>\n",
       "      <td>18945945</td>\n",
       "      <td>0.436177</td>\n",
       "      <td>0.419262</td>\n",
       "      <td>NaN</td>\n",
       "      <td>NaN</td>\n",
       "      <td>0.419262</td>\n",
       "      <td>-0.016915</td>\n",
       "    </tr>\n",
       "    <tr>\n",
       "      <th>15630</th>\n",
       "      <td>chr1</td>\n",
       "      <td>18957118</td>\n",
       "      <td>18957138</td>\n",
       "      <td>0.263870</td>\n",
       "      <td>0.252983</td>\n",
       "      <td>NaN</td>\n",
       "      <td>NaN</td>\n",
       "      <td>0.252983</td>\n",
       "      <td>-0.010887</td>\n",
       "    </tr>\n",
       "    <tr>\n",
       "      <th>15646</th>\n",
       "      <td>chr1</td>\n",
       "      <td>18962741</td>\n",
       "      <td>18962761</td>\n",
       "      <td>0.233786</td>\n",
       "      <td>0.216677</td>\n",
       "      <td>NaN</td>\n",
       "      <td>NaN</td>\n",
       "      <td>0.216677</td>\n",
       "      <td>-0.017109</td>\n",
       "    </tr>\n",
       "    <tr>\n",
       "      <th>15671</th>\n",
       "      <td>chr1</td>\n",
       "      <td>18970521</td>\n",
       "      <td>18970541</td>\n",
       "      <td>0.334679</td>\n",
       "      <td>0.319889</td>\n",
       "      <td>NaN</td>\n",
       "      <td>NaN</td>\n",
       "      <td>0.319889</td>\n",
       "      <td>-0.014790</td>\n",
       "    </tr>\n",
       "    <tr>\n",
       "      <th>15681</th>\n",
       "      <td>chr1</td>\n",
       "      <td>18972420</td>\n",
       "      <td>18972440</td>\n",
       "      <td>0.224179</td>\n",
       "      <td>0.206632</td>\n",
       "      <td>NaN</td>\n",
       "      <td>NaN</td>\n",
       "      <td>0.206632</td>\n",
       "      <td>-0.017547</td>\n",
       "    </tr>\n",
       "    <tr>\n",
       "      <th>15692</th>\n",
       "      <td>chr1</td>\n",
       "      <td>18983011</td>\n",
       "      <td>18983031</td>\n",
       "      <td>0.223578</td>\n",
       "      <td>0.201364</td>\n",
       "      <td>NaN</td>\n",
       "      <td>NaN</td>\n",
       "      <td>0.201364</td>\n",
       "      <td>-0.022214</td>\n",
       "    </tr>\n",
       "    <tr>\n",
       "      <th>15696</th>\n",
       "      <td>chr1</td>\n",
       "      <td>18988817</td>\n",
       "      <td>18988837</td>\n",
       "      <td>0.356067</td>\n",
       "      <td>0.338811</td>\n",
       "      <td>NaN</td>\n",
       "      <td>NaN</td>\n",
       "      <td>0.338811</td>\n",
       "      <td>-0.017256</td>\n",
       "    </tr>\n",
       "    <tr>\n",
       "      <th>15697</th>\n",
       "      <td>chr1</td>\n",
       "      <td>18991791</td>\n",
       "      <td>18991811</td>\n",
       "      <td>0.267279</td>\n",
       "      <td>0.243314</td>\n",
       "      <td>NaN</td>\n",
       "      <td>NaN</td>\n",
       "      <td>0.243314</td>\n",
       "      <td>-0.023965</td>\n",
       "    </tr>\n",
       "    <tr>\n",
       "      <th>15698</th>\n",
       "      <td>chr1</td>\n",
       "      <td>18993816</td>\n",
       "      <td>18993836</td>\n",
       "      <td>0.238129</td>\n",
       "      <td>0.205657</td>\n",
       "      <td>NaN</td>\n",
       "      <td>NaN</td>\n",
       "      <td>0.205657</td>\n",
       "      <td>-0.032472</td>\n",
       "    </tr>\n",
       "    <tr>\n",
       "      <th>15704</th>\n",
       "      <td>chr1</td>\n",
       "      <td>19013256</td>\n",
       "      <td>19013276</td>\n",
       "      <td>0.230270</td>\n",
       "      <td>0.213327</td>\n",
       "      <td>NaN</td>\n",
       "      <td>NaN</td>\n",
       "      <td>0.213327</td>\n",
       "      <td>-0.016943</td>\n",
       "    </tr>\n",
       "    <tr>\n",
       "      <th>15705</th>\n",
       "      <td>chr1</td>\n",
       "      <td>19013758</td>\n",
       "      <td>19013778</td>\n",
       "      <td>0.230814</td>\n",
       "      <td>0.176639</td>\n",
       "      <td>NaN</td>\n",
       "      <td>NaN</td>\n",
       "      <td>0.176639</td>\n",
       "      <td>-0.054175</td>\n",
       "    </tr>\n",
       "    <tr>\n",
       "      <th>15707</th>\n",
       "      <td>chr1</td>\n",
       "      <td>19014098</td>\n",
       "      <td>19014118</td>\n",
       "      <td>0.260688</td>\n",
       "      <td>0.246978</td>\n",
       "      <td>NaN</td>\n",
       "      <td>NaN</td>\n",
       "      <td>0.246978</td>\n",
       "      <td>-0.013710</td>\n",
       "    </tr>\n",
       "    <tr>\n",
       "      <th>15711</th>\n",
       "      <td>chr1</td>\n",
       "      <td>19020137</td>\n",
       "      <td>19020157</td>\n",
       "      <td>0.225978</td>\n",
       "      <td>0.215971</td>\n",
       "      <td>NaN</td>\n",
       "      <td>NaN</td>\n",
       "      <td>0.215971</td>\n",
       "      <td>-0.010007</td>\n",
       "    </tr>\n",
       "    <tr>\n",
       "      <th>15726</th>\n",
       "      <td>chr1</td>\n",
       "      <td>19034097</td>\n",
       "      <td>19034117</td>\n",
       "      <td>0.345140</td>\n",
       "      <td>0.293916</td>\n",
       "      <td>NaN</td>\n",
       "      <td>NaN</td>\n",
       "      <td>0.293916</td>\n",
       "      <td>-0.051224</td>\n",
       "    </tr>\n",
       "    <tr>\n",
       "      <th>15732</th>\n",
       "      <td>chr1</td>\n",
       "      <td>19043415</td>\n",
       "      <td>19043435</td>\n",
       "      <td>0.253818</td>\n",
       "      <td>0.240846</td>\n",
       "      <td>NaN</td>\n",
       "      <td>NaN</td>\n",
       "      <td>0.240846</td>\n",
       "      <td>-0.012972</td>\n",
       "    </tr>\n",
       "  </tbody>\n",
       "</table>\n",
       "<p>1469 rows × 9 columns</p>\n",
       "</div>"
      ],
      "text/plain": [
       "      chrom     start       end  schipper_score  E2F1_CCGC_score  \\\n",
       "5430   chr1   5105748   5105768        0.250615         0.236664   \n",
       "5431   chr1   5111017   5111037        0.245937         0.202821   \n",
       "5437   chr1   5142520   5142540        0.493808         0.474741   \n",
       "5443   chr1   5157384   5157404        0.296127         0.245459   \n",
       "5446   chr1   5164966   5164986        0.276661         0.262857   \n",
       "5447   chr1   5170944   5170964        0.475559         0.459958   \n",
       "5449   chr1   5176004   5176024        0.360167         0.317552   \n",
       "5452   chr1   5179070   5179090        0.287219         0.270873   \n",
       "5466   chr1   5217650   5217670        0.232882         0.206577   \n",
       "5467   chr1   5220742   5220762        0.405746         0.385671   \n",
       "5470   chr1   5235766   5235786        0.436714         0.401401   \n",
       "5489   chr1   5288496   5288516        0.331109         0.305242   \n",
       "5496   chr1   5313063   5313083        0.318053         0.305177   \n",
       "5503   chr1   5334757   5334777        0.241415         0.220351   \n",
       "5504   chr1   5335212   5335232        0.302153         0.282241   \n",
       "5513   chr1   5352257   5352277        0.301879         0.230458   \n",
       "5519   chr1   5360337   5360357        0.227077         0.214160   \n",
       "5522   chr1   5369115   5369135        0.259098         0.230015   \n",
       "5531   chr1   5401236   5401256        0.233315         0.177306   \n",
       "5532   chr1   5405983   5406003        0.275650         0.257456   \n",
       "5537   chr1   5414978   5414998        0.286697         0.240438   \n",
       "5546   chr1   5443989   5444009        0.291055         0.264459   \n",
       "5549   chr1   5452396   5452416        0.241469         0.213850   \n",
       "5553   chr1   5463058   5463078        0.308389         0.257226   \n",
       "5560   chr1   5483084   5483104        0.208127         0.172554   \n",
       "5562   chr1   5487271   5487291        0.285578         0.271451   \n",
       "5563   chr1   5489856   5489876        0.254710         0.243234   \n",
       "5569   chr1   5502711   5502731        0.232237         0.203045   \n",
       "5583   chr1   5521893   5521913        0.245036         0.228915   \n",
       "5587   chr1   5524905   5524925        0.378591         0.347818   \n",
       "...     ...       ...       ...             ...              ...   \n",
       "15515  chr1  18735136  18735156        0.433341         0.393499   \n",
       "15517  chr1  18737644  18737664        0.265553         0.249283   \n",
       "15528  chr1  18772430  18772450        0.235305         0.205569   \n",
       "15531  chr1  18775813  18775833        0.384470         0.373197   \n",
       "15541  chr1  18802942  18802962        0.248745         0.232628   \n",
       "15543  chr1  18804537  18804557        0.210056         0.199860   \n",
       "15558  chr1  18829111  18829131        0.264077         0.250137   \n",
       "15560  chr1  18837213  18837233        0.286957         0.261638   \n",
       "15573  chr1  18877018  18877038        0.270394         0.243181   \n",
       "15581  chr1  18895588  18895608        0.331717         0.312021   \n",
       "15584  chr1  18905705  18905725        0.256678         0.243063   \n",
       "15589  chr1  18910087  18910107        0.341715         0.301816   \n",
       "15593  chr1  18913906  18913926        0.276248         0.263772   \n",
       "15600  chr1  18918505  18918525        0.238939         0.218989   \n",
       "15620  chr1  18945276  18945296        0.237398         0.222047   \n",
       "15621  chr1  18945925  18945945        0.436177         0.419262   \n",
       "15630  chr1  18957118  18957138        0.263870         0.252983   \n",
       "15646  chr1  18962741  18962761        0.233786         0.216677   \n",
       "15671  chr1  18970521  18970541        0.334679         0.319889   \n",
       "15681  chr1  18972420  18972440        0.224179         0.206632   \n",
       "15692  chr1  18983011  18983031        0.223578         0.201364   \n",
       "15696  chr1  18988817  18988837        0.356067         0.338811   \n",
       "15697  chr1  18991791  18991811        0.267279         0.243314   \n",
       "15698  chr1  18993816  18993836        0.238129         0.205657   \n",
       "15704  chr1  19013256  19013276        0.230270         0.213327   \n",
       "15705  chr1  19013758  19013778        0.230814         0.176639   \n",
       "15707  chr1  19014098  19014118        0.260688         0.246978   \n",
       "15711  chr1  19020137  19020157        0.225978         0.215971   \n",
       "15726  chr1  19034097  19034117        0.345140         0.293916   \n",
       "15732  chr1  19043415  19043435        0.253818         0.240846   \n",
       "\n",
       "       E2F1_GCGG_score  E2F1_GCGC_score  E2F1_max_score     delta  \n",
       "5430               NaN              NaN        0.236664 -0.013951  \n",
       "5431               NaN              NaN        0.202821 -0.043116  \n",
       "5437               NaN              NaN        0.474741 -0.019067  \n",
       "5443               NaN              NaN        0.245459 -0.050668  \n",
       "5446               NaN              NaN        0.262857 -0.013804  \n",
       "5447               NaN              NaN        0.459958 -0.015601  \n",
       "5449               NaN              NaN        0.317552 -0.042615  \n",
       "5452               NaN              NaN        0.270873 -0.016346  \n",
       "5466               NaN              NaN        0.206577 -0.026305  \n",
       "5467               NaN              NaN        0.385671 -0.020075  \n",
       "5470               NaN              NaN        0.401401 -0.035313  \n",
       "5489               NaN              NaN        0.305242 -0.025867  \n",
       "5496               NaN              NaN        0.305177 -0.012876  \n",
       "5503               NaN              NaN        0.220351 -0.021064  \n",
       "5504               NaN              NaN        0.282241 -0.019912  \n",
       "5513               NaN              NaN        0.230458 -0.071421  \n",
       "5519               NaN              NaN        0.214160 -0.012917  \n",
       "5522               NaN              NaN        0.230015 -0.029083  \n",
       "5531               NaN              NaN        0.177306 -0.056009  \n",
       "5532               NaN              NaN        0.257456 -0.018194  \n",
       "5537               NaN              NaN        0.240438 -0.046259  \n",
       "5546               NaN              NaN        0.264459 -0.026596  \n",
       "5549               NaN              NaN        0.213850 -0.027619  \n",
       "5553               NaN              NaN        0.257226 -0.051163  \n",
       "5560               NaN              NaN        0.172554 -0.035573  \n",
       "5562               NaN              NaN        0.271451 -0.014127  \n",
       "5563               NaN              NaN        0.243234 -0.011476  \n",
       "5569               NaN              NaN        0.203045 -0.029192  \n",
       "5583               NaN              NaN        0.228915 -0.016121  \n",
       "5587               NaN              NaN        0.347818 -0.030773  \n",
       "...                ...              ...             ...       ...  \n",
       "15515              NaN              NaN        0.393499 -0.039842  \n",
       "15517              NaN              NaN        0.249283 -0.016270  \n",
       "15528              NaN              NaN        0.205569 -0.029736  \n",
       "15531              NaN              NaN        0.373197 -0.011273  \n",
       "15541              NaN              NaN        0.232628 -0.016117  \n",
       "15543              NaN              NaN        0.199860 -0.010196  \n",
       "15558              NaN              NaN        0.250137 -0.013940  \n",
       "15560              NaN              NaN        0.261638 -0.025319  \n",
       "15573              NaN              NaN        0.243181 -0.027213  \n",
       "15581              NaN              NaN        0.312021 -0.019696  \n",
       "15584              NaN              NaN        0.243063 -0.013615  \n",
       "15589              NaN              NaN        0.301816 -0.039899  \n",
       "15593              NaN              NaN        0.263772 -0.012476  \n",
       "15600              NaN              NaN        0.218989 -0.019950  \n",
       "15620              NaN              NaN        0.222047 -0.015351  \n",
       "15621              NaN              NaN        0.419262 -0.016915  \n",
       "15630              NaN              NaN        0.252983 -0.010887  \n",
       "15646              NaN              NaN        0.216677 -0.017109  \n",
       "15671              NaN              NaN        0.319889 -0.014790  \n",
       "15681              NaN              NaN        0.206632 -0.017547  \n",
       "15692              NaN              NaN        0.201364 -0.022214  \n",
       "15696              NaN              NaN        0.338811 -0.017256  \n",
       "15697              NaN              NaN        0.243314 -0.023965  \n",
       "15698              NaN              NaN        0.205657 -0.032472  \n",
       "15704              NaN              NaN        0.213327 -0.016943  \n",
       "15705              NaN              NaN        0.176639 -0.054175  \n",
       "15707              NaN              NaN        0.246978 -0.013710  \n",
       "15711              NaN              NaN        0.215971 -0.010007  \n",
       "15726              NaN              NaN        0.293916 -0.051224  \n",
       "15732              NaN              NaN        0.240846 -0.012972  \n",
       "\n",
       "[1469 rows x 9 columns]"
      ]
     },
     "execution_count": 244,
     "metadata": {},
     "output_type": "execute_result"
    }
   ],
   "source": [
    "aligned_chr1[abs(aligned_chr1['delta']) > 0.01] # The things outside the range don't have any predictions on GCGG or GCGC"
   ]
  },
  {
   "cell_type": "code",
   "execution_count": 245,
   "metadata": {
    "collapsed": false
   },
   "outputs": [
    {
     "data": {
      "text/html": [
       "<div>\n",
       "<table border=\"1\" class=\"dataframe\">\n",
       "  <thead>\n",
       "    <tr style=\"text-align: right;\">\n",
       "      <th></th>\n",
       "      <th>start</th>\n",
       "      <th>end</th>\n",
       "      <th>schipper_score</th>\n",
       "      <th>E2F1_CCGC_score</th>\n",
       "      <th>E2F1_GCGG_score</th>\n",
       "      <th>E2F1_GCGC_score</th>\n",
       "      <th>E2F1_max_score</th>\n",
       "      <th>delta</th>\n",
       "    </tr>\n",
       "  </thead>\n",
       "  <tbody>\n",
       "    <tr>\n",
       "      <th>count</th>\n",
       "      <td>9.559000e+04</td>\n",
       "      <td>9.559000e+04</td>\n",
       "      <td>95590.000000</td>\n",
       "      <td>6922.000000</td>\n",
       "      <td>2274.000000</td>\n",
       "      <td>27792.000000</td>\n",
       "      <td>34714.000000</td>\n",
       "      <td>3.471400e+04</td>\n",
       "    </tr>\n",
       "    <tr>\n",
       "      <th>mean</th>\n",
       "      <td>1.078722e+08</td>\n",
       "      <td>1.078722e+08</td>\n",
       "      <td>0.294950</td>\n",
       "      <td>0.258995</td>\n",
       "      <td>0.253711</td>\n",
       "      <td>0.308116</td>\n",
       "      <td>0.298855</td>\n",
       "      <td>-1.208283e-03</td>\n",
       "    </tr>\n",
       "    <tr>\n",
       "      <th>std</th>\n",
       "      <td>8.160416e+07</td>\n",
       "      <td>8.160416e+07</td>\n",
       "      <td>0.077365</td>\n",
       "      <td>0.058871</td>\n",
       "      <td>0.054783</td>\n",
       "      <td>0.082002</td>\n",
       "      <td>0.080074</td>\n",
       "      <td>6.021029e-03</td>\n",
       "    </tr>\n",
       "    <tr>\n",
       "      <th>min</th>\n",
       "      <td>1.062100e+04</td>\n",
       "      <td>1.064100e+04</td>\n",
       "      <td>0.207001</td>\n",
       "      <td>0.104253</td>\n",
       "      <td>0.162947</td>\n",
       "      <td>0.207004</td>\n",
       "      <td>0.104253</td>\n",
       "      <td>-1.042800e-01</td>\n",
       "    </tr>\n",
       "    <tr>\n",
       "      <th>25%</th>\n",
       "      <td>3.063431e+07</td>\n",
       "      <td>3.063433e+07</td>\n",
       "      <td>0.236629</td>\n",
       "      <td>0.218483</td>\n",
       "      <td>0.215692</td>\n",
       "      <td>0.245248</td>\n",
       "      <td>0.238107</td>\n",
       "      <td>-2.997313e-07</td>\n",
       "    </tr>\n",
       "    <tr>\n",
       "      <th>50%</th>\n",
       "      <td>9.275523e+07</td>\n",
       "      <td>9.275525e+07</td>\n",
       "      <td>0.273705</td>\n",
       "      <td>0.243706</td>\n",
       "      <td>0.238510</td>\n",
       "      <td>0.288581</td>\n",
       "      <td>0.278357</td>\n",
       "      <td>-2.932800e-08</td>\n",
       "    </tr>\n",
       "    <tr>\n",
       "      <th>75%</th>\n",
       "      <td>1.832651e+08</td>\n",
       "      <td>1.832651e+08</td>\n",
       "      <td>0.330496</td>\n",
       "      <td>0.282660</td>\n",
       "      <td>0.277111</td>\n",
       "      <td>0.348864</td>\n",
       "      <td>0.337436</td>\n",
       "      <td>2.318517e-07</td>\n",
       "    </tr>\n",
       "    <tr>\n",
       "      <th>max</th>\n",
       "      <td>2.492396e+08</td>\n",
       "      <td>2.492396e+08</td>\n",
       "      <td>0.911395</td>\n",
       "      <td>0.631726</td>\n",
       "      <td>0.575803</td>\n",
       "      <td>0.911395</td>\n",
       "      <td>0.911395</td>\n",
       "      <td>4.999800e-07</td>\n",
       "    </tr>\n",
       "  </tbody>\n",
       "</table>\n",
       "</div>"
      ],
      "text/plain": [
       "              start           end  schipper_score  E2F1_CCGC_score  \\\n",
       "count  9.559000e+04  9.559000e+04    95590.000000      6922.000000   \n",
       "mean   1.078722e+08  1.078722e+08        0.294950         0.258995   \n",
       "std    8.160416e+07  8.160416e+07        0.077365         0.058871   \n",
       "min    1.062100e+04  1.064100e+04        0.207001         0.104253   \n",
       "25%    3.063431e+07  3.063433e+07        0.236629         0.218483   \n",
       "50%    9.275523e+07  9.275525e+07        0.273705         0.243706   \n",
       "75%    1.832651e+08  1.832651e+08        0.330496         0.282660   \n",
       "max    2.492396e+08  2.492396e+08        0.911395         0.631726   \n",
       "\n",
       "       E2F1_GCGG_score  E2F1_GCGC_score  E2F1_max_score         delta  \n",
       "count      2274.000000     27792.000000    34714.000000  3.471400e+04  \n",
       "mean          0.253711         0.308116        0.298855 -1.208283e-03  \n",
       "std           0.054783         0.082002        0.080074  6.021029e-03  \n",
       "min           0.162947         0.207004        0.104253 -1.042800e-01  \n",
       "25%           0.215692         0.245248        0.238107 -2.997313e-07  \n",
       "50%           0.238510         0.288581        0.278357 -2.932800e-08  \n",
       "75%           0.277111         0.348864        0.337436  2.318517e-07  \n",
       "max           0.575803         0.911395        0.911395  4.999800e-07  "
      ]
     },
     "execution_count": 245,
     "metadata": {},
     "output_type": "execute_result"
    }
   ],
   "source": [
    "aligned_chr1.describe()"
   ]
  },
  {
   "cell_type": "code",
   "execution_count": 247,
   "metadata": {
    "collapsed": false
   },
   "outputs": [],
   "source": [
    "aligned_covered = aligned_chr1[aligned_chr1['end'] < 5096213]"
   ]
  },
  {
   "cell_type": "code",
   "execution_count": 250,
   "metadata": {
    "collapsed": false
   },
   "outputs": [
    {
     "data": {
      "text/html": [
       "<div>\n",
       "<table border=\"1\" class=\"dataframe\">\n",
       "  <thead>\n",
       "    <tr style=\"text-align: right;\">\n",
       "      <th></th>\n",
       "      <th>chrom</th>\n",
       "      <th>start</th>\n",
       "      <th>end</th>\n",
       "      <th>schipper_score</th>\n",
       "      <th>E2F1_CCGC_score</th>\n",
       "      <th>E2F1_GCGG_score</th>\n",
       "      <th>E2F1_GCGC_score</th>\n",
       "      <th>E2F1_max_score</th>\n",
       "      <th>delta</th>\n",
       "    </tr>\n",
       "  </thead>\n",
       "  <tbody>\n",
       "  </tbody>\n",
       "</table>\n",
       "</div>"
      ],
      "text/plain": [
       "Empty DataFrame\n",
       "Columns: [chrom, start, end, schipper_score, E2F1_CCGC_score, E2F1_GCGG_score, E2F1_GCGC_score, E2F1_max_score, delta]\n",
       "Index: []"
      ]
     },
     "execution_count": 250,
     "metadata": {},
     "output_type": "execute_result"
    }
   ],
   "source": [
    "aligned_covered[abs(aligned_covered['delta']) > 0.000001] # The things outside the range don't have any predictions on GCGG or GCGC"
   ]
  },
  {
   "cell_type": "code",
   "execution_count": 251,
   "metadata": {
    "collapsed": false
   },
   "outputs": [
    {
     "data": {
      "text/html": [
       "<div>\n",
       "<table border=\"1\" class=\"dataframe\">\n",
       "  <thead>\n",
       "    <tr style=\"text-align: right;\">\n",
       "      <th></th>\n",
       "      <th>start</th>\n",
       "      <th>end</th>\n",
       "      <th>schipper_score</th>\n",
       "      <th>E2F1_CCGC_score</th>\n",
       "      <th>E2F1_GCGG_score</th>\n",
       "      <th>E2F1_GCGC_score</th>\n",
       "      <th>E2F1_max_score</th>\n",
       "      <th>delta</th>\n",
       "    </tr>\n",
       "  </thead>\n",
       "  <tbody>\n",
       "    <tr>\n",
       "      <th>count</th>\n",
       "      <td>5427.000000</td>\n",
       "      <td>5427.000000</td>\n",
       "      <td>5427.000000</td>\n",
       "      <td>2274.000000</td>\n",
       "      <td>2274.000000</td>\n",
       "      <td>3153.000000</td>\n",
       "      <td>5427.000000</td>\n",
       "      <td>5.427000e+03</td>\n",
       "    </tr>\n",
       "    <tr>\n",
       "      <th>mean</th>\n",
       "      <td>2353836.637369</td>\n",
       "      <td>2353856.637369</td>\n",
       "      <td>0.285357</td>\n",
       "      <td>0.255294</td>\n",
       "      <td>0.253711</td>\n",
       "      <td>0.301164</td>\n",
       "      <td>0.285357</td>\n",
       "      <td>2.793047e-09</td>\n",
       "    </tr>\n",
       "    <tr>\n",
       "      <th>std</th>\n",
       "      <td>1171367.373096</td>\n",
       "      <td>1171367.373096</td>\n",
       "      <td>0.068703</td>\n",
       "      <td>0.054237</td>\n",
       "      <td>0.054783</td>\n",
       "      <td>0.073984</td>\n",
       "      <td>0.068703</td>\n",
       "      <td>2.869706e-07</td>\n",
       "    </tr>\n",
       "    <tr>\n",
       "      <th>min</th>\n",
       "      <td>10621.000000</td>\n",
       "      <td>10641.000000</td>\n",
       "      <td>0.207016</td>\n",
       "      <td>0.131674</td>\n",
       "      <td>0.162947</td>\n",
       "      <td>0.207016</td>\n",
       "      <td>0.207016</td>\n",
       "      <td>-4.998060e-07</td>\n",
       "    </tr>\n",
       "    <tr>\n",
       "      <th>25%</th>\n",
       "      <td>1371098.000000</td>\n",
       "      <td>1371118.000000</td>\n",
       "      <td>0.232555</td>\n",
       "      <td>0.217342</td>\n",
       "      <td>0.215692</td>\n",
       "      <td>0.244383</td>\n",
       "      <td>0.232556</td>\n",
       "      <td>-2.430710e-07</td>\n",
       "    </tr>\n",
       "    <tr>\n",
       "      <th>50%</th>\n",
       "      <td>2159908.000000</td>\n",
       "      <td>2159928.000000</td>\n",
       "      <td>0.266090</td>\n",
       "      <td>0.241349</td>\n",
       "      <td>0.238510</td>\n",
       "      <td>0.284822</td>\n",
       "      <td>0.266090</td>\n",
       "      <td>-2.980000e-10</td>\n",
       "    </tr>\n",
       "    <tr>\n",
       "      <th>75%</th>\n",
       "      <td>3274604.500000</td>\n",
       "      <td>3274624.500000</td>\n",
       "      <td>0.319245</td>\n",
       "      <td>0.279461</td>\n",
       "      <td>0.277111</td>\n",
       "      <td>0.339662</td>\n",
       "      <td>0.319245</td>\n",
       "      <td>2.459285e-07</td>\n",
       "    </tr>\n",
       "    <tr>\n",
       "      <th>max</th>\n",
       "      <td>5096185.000000</td>\n",
       "      <td>5096205.000000</td>\n",
       "      <td>0.670775</td>\n",
       "      <td>0.582213</td>\n",
       "      <td>0.575803</td>\n",
       "      <td>0.670775</td>\n",
       "      <td>0.670775</td>\n",
       "      <td>4.998810e-07</td>\n",
       "    </tr>\n",
       "  </tbody>\n",
       "</table>\n",
       "</div>"
      ],
      "text/plain": [
       "                start             end  schipper_score  E2F1_CCGC_score  \\\n",
       "count     5427.000000     5427.000000     5427.000000      2274.000000   \n",
       "mean   2353836.637369  2353856.637369        0.285357         0.255294   \n",
       "std    1171367.373096  1171367.373096        0.068703         0.054237   \n",
       "min      10621.000000    10641.000000        0.207016         0.131674   \n",
       "25%    1371098.000000  1371118.000000        0.232555         0.217342   \n",
       "50%    2159908.000000  2159928.000000        0.266090         0.241349   \n",
       "75%    3274604.500000  3274624.500000        0.319245         0.279461   \n",
       "max    5096185.000000  5096205.000000        0.670775         0.582213   \n",
       "\n",
       "       E2F1_GCGG_score  E2F1_GCGC_score  E2F1_max_score         delta  \n",
       "count      2274.000000      3153.000000     5427.000000  5.427000e+03  \n",
       "mean          0.253711         0.301164        0.285357  2.793047e-09  \n",
       "std           0.054783         0.073984        0.068703  2.869706e-07  \n",
       "min           0.162947         0.207016        0.207016 -4.998060e-07  \n",
       "25%           0.215692         0.244383        0.232556 -2.430710e-07  \n",
       "50%           0.238510         0.284822        0.266090 -2.980000e-10  \n",
       "75%           0.277111         0.339662        0.319245  2.459285e-07  \n",
       "max           0.575803         0.670775        0.670775  4.998810e-07  "
      ]
     },
     "execution_count": 251,
     "metadata": {},
     "output_type": "execute_result"
    }
   ],
   "source": [
    "aligned_covered.describe()"
   ]
  },
  {
   "cell_type": "markdown",
   "metadata": {},
   "source": [
    "Since my individual E2F1 score files had varying levels of coverage, I needed to restrict my filter to just look at where the predictions ran. Otherwise I might only be finding scores for one core and not all 3"
   ]
  },
  {
   "cell_type": "code",
   "execution_count": 256,
   "metadata": {
    "collapsed": false
   },
   "outputs": [
    {
     "data": {
      "text/plain": [
       "<matplotlib.axes._subplots.AxesSubplot at 0x114783250>"
      ]
     },
     "execution_count": 256,
     "metadata": {},
     "output_type": "execute_result"
    },
    {
     "data": {
      "image/png": "[encoded data removed]",
      "text/plain": [
       "<matplotlib.figure.Figure at 0x114d87ad0>"
      ]
     },
     "metadata": {},
     "output_type": "display_data"
    }
   ],
   "source": [
    "aligned_covered['delta'].hist(bins=100)"
   ]
  },
  {
   "cell_type": "markdown",
   "metadata": {},
   "source": [
    "Looks pretty good. For the places where I know I have coverage, the deltas are all within 5e-7, which is insignificant, since there are only 6 decimal places in the scores"
   ]
  },
  {
   "cell_type": "code",
   "execution_count": null,
   "metadata": {
    "collapsed": true
   },
   "outputs": [],
   "source": []
  }
 ],
 "metadata": {
  "kernelspec": {
   "display_name": "Python 2",
   "language": "python",
   "name": "python2"
  },
  "language_info": {
   "codemirror_mode": {
    "name": "ipython",
    "version": 2
   },
   "file_extension": ".py",
   "mimetype": "text/x-python",
   "name": "python",
   "nbconvert_exporter": "python",
   "pygments_lexer": "ipython2",
   "version": "2.7.10"
  }
 },
 "nbformat": 4,
 "nbformat_minor": 0
}
